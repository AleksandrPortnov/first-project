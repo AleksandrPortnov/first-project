{
 "cells": [
  {
   "cell_type": "markdown",
   "metadata": {
    "deletable": false,
    "editable": false,
    "id": "E0vqbgi9ay0H"
   },
   "source": [
    "# Яндекс.Музыка"
   ]
  },
  {
   "cell_type": "markdown",
   "metadata": {
    "deletable": false,
    "editable": false,
    "id": "VUC88oWjTJw2"
   },
   "source": [
    "Сравнение Москвы и Петербурга окружено мифами. Например:\n",
    " * Москва — мегаполис, подчинённый жёсткому ритму рабочей недели;\n",
    " * Петербург — культурная столица, со своими вкусами.\n",
    "\n",
    "На данных Яндекс Музыки вы сравните поведение пользователей двух столиц.\n",
    "\n",
    "**Цель исследования** — проверьте три гипотезы:\n",
    "1. Активность пользователей зависит от дня недели. Причём в Москве и Петербурге это проявляется по-разному.\n",
    "2. В понедельник утром в Москве преобладают одни жанры, а в Петербурге — другие. Так же и вечером пятницы преобладают разные жанры — в зависимости от города. \n",
    "3. Москва и Петербург предпочитают разные жанры музыки. В Москве чаще слушают поп-музыку, в Петербурге — русский рэп.\n",
    "\n",
    "**Ход исследования**\n",
    "\n",
    "Данные о поведении пользователей вы получите из файла `yandex_music_project.csv`. О качестве данных ничего не известно. Поэтому перед проверкой гипотез понадобится обзор данных. \n",
    "\n",
    "Вы проверите данные на ошибки и оцените их влияние на исследование. Затем, на этапе предобработки вы поищете возможность исправить самые критичные ошибки данных.\n",
    " \n",
    "Таким образом, исследование пройдёт в три этапа:\n",
    " 1. Обзор данных.\n",
    " 2. Предобработка данных.\n",
    " 3. Проверка гипотез.\n",
    "\n"
   ]
  },
  {
   "cell_type": "markdown",
   "metadata": {
    "deletable": false,
    "editable": false,
    "id": "Ml1hmfXC_Zcs"
   },
   "source": [
    "## Обзор данных\n",
    "\n",
    "Составьте первое представление о данных Яндекс Музыки.\n",
    "\n",
    "\n"
   ]
  },
  {
   "cell_type": "markdown",
   "metadata": {
    "deletable": false,
    "editable": false,
    "id": "57eAOGIz_Zcs",
    "tags": [
     "start_task"
    ]
   },
   "source": [
    "**Задание 1**\n",
    "\n",
    "Основной инструмент аналитика — `pandas`. Импортируйте эту библиотеку."
   ]
  },
  {
   "cell_type": "code",
   "execution_count": 330,
   "metadata": {
    "deletable": false,
    "id": "AXN7PHPN_Zcs"
   },
   "outputs": [],
   "source": [
    "# импорт библиотеки pandas\n",
    "import pandas as pd"
   ]
  },
  {
   "cell_type": "markdown",
   "metadata": {
    "deletable": false,
    "editable": false,
    "id": "SG23P8tt_Zcs",
    "tags": [
     "start_task"
    ]
   },
   "source": [
    "**Задание 2**\n",
    "\n",
    "Прочитайте файл `yandex_music_project.csv` из папки `/datasets` и сохраните его в переменной `df`:"
   ]
  },
  {
   "cell_type": "code",
   "execution_count": 331,
   "metadata": {
    "deletable": false,
    "id": "fFVu7vqh_Zct"
   },
   "outputs": [],
   "source": [
    "# чтение файла с данными и сохранение в df\n",
    "df = pd.read_csv('/datasets/yandex_music_project.csv')"
   ]
  },
  {
   "cell_type": "markdown",
   "metadata": {
    "deletable": false,
    "editable": false,
    "id": "rDoOMd3uTqnZ",
    "tags": [
     "start_task"
    ]
   },
   "source": [
    "**Задание 3**\n",
    "\n",
    "\n",
    "Выведите на экран первые десять строк таблицы:"
   ]
  },
  {
   "cell_type": "code",
   "execution_count": 332,
   "metadata": {
    "deletable": false,
    "id": "oWTVX3gW_Zct"
   },
   "outputs": [
    {
     "data": {
      "text/html": [
       "<div>\n",
       "<style scoped>\n",
       "    .dataframe tbody tr th:only-of-type {\n",
       "        vertical-align: middle;\n",
       "    }\n",
       "\n",
       "    .dataframe tbody tr th {\n",
       "        vertical-align: top;\n",
       "    }\n",
       "\n",
       "    .dataframe thead th {\n",
       "        text-align: right;\n",
       "    }\n",
       "</style>\n",
       "<table border=\"1\" class=\"dataframe\">\n",
       "  <thead>\n",
       "    <tr style=\"text-align: right;\">\n",
       "      <th></th>\n",
       "      <th>userID</th>\n",
       "      <th>Track</th>\n",
       "      <th>artist</th>\n",
       "      <th>genre</th>\n",
       "      <th>City</th>\n",
       "      <th>time</th>\n",
       "      <th>Day</th>\n",
       "    </tr>\n",
       "  </thead>\n",
       "  <tbody>\n",
       "    <tr>\n",
       "      <th>0</th>\n",
       "      <td>FFB692EC</td>\n",
       "      <td>Kamigata To Boots</td>\n",
       "      <td>The Mass Missile</td>\n",
       "      <td>rock</td>\n",
       "      <td>Saint-Petersburg</td>\n",
       "      <td>20:28:33</td>\n",
       "      <td>Wednesday</td>\n",
       "    </tr>\n",
       "    <tr>\n",
       "      <th>1</th>\n",
       "      <td>55204538</td>\n",
       "      <td>Delayed Because of Accident</td>\n",
       "      <td>Andreas Rönnberg</td>\n",
       "      <td>rock</td>\n",
       "      <td>Moscow</td>\n",
       "      <td>14:07:09</td>\n",
       "      <td>Friday</td>\n",
       "    </tr>\n",
       "    <tr>\n",
       "      <th>2</th>\n",
       "      <td>20EC38</td>\n",
       "      <td>Funiculì funiculà</td>\n",
       "      <td>Mario Lanza</td>\n",
       "      <td>pop</td>\n",
       "      <td>Saint-Petersburg</td>\n",
       "      <td>20:58:07</td>\n",
       "      <td>Wednesday</td>\n",
       "    </tr>\n",
       "    <tr>\n",
       "      <th>3</th>\n",
       "      <td>A3DD03C9</td>\n",
       "      <td>Dragons in the Sunset</td>\n",
       "      <td>Fire + Ice</td>\n",
       "      <td>folk</td>\n",
       "      <td>Saint-Petersburg</td>\n",
       "      <td>08:37:09</td>\n",
       "      <td>Monday</td>\n",
       "    </tr>\n",
       "    <tr>\n",
       "      <th>4</th>\n",
       "      <td>E2DC1FAE</td>\n",
       "      <td>Soul People</td>\n",
       "      <td>Space Echo</td>\n",
       "      <td>dance</td>\n",
       "      <td>Moscow</td>\n",
       "      <td>08:34:34</td>\n",
       "      <td>Monday</td>\n",
       "    </tr>\n",
       "    <tr>\n",
       "      <th>5</th>\n",
       "      <td>842029A1</td>\n",
       "      <td>Преданная</td>\n",
       "      <td>IMPERVTOR</td>\n",
       "      <td>rusrap</td>\n",
       "      <td>Saint-Petersburg</td>\n",
       "      <td>13:09:41</td>\n",
       "      <td>Friday</td>\n",
       "    </tr>\n",
       "    <tr>\n",
       "      <th>6</th>\n",
       "      <td>4CB90AA5</td>\n",
       "      <td>True</td>\n",
       "      <td>Roman Messer</td>\n",
       "      <td>dance</td>\n",
       "      <td>Moscow</td>\n",
       "      <td>13:00:07</td>\n",
       "      <td>Wednesday</td>\n",
       "    </tr>\n",
       "    <tr>\n",
       "      <th>7</th>\n",
       "      <td>F03E1C1F</td>\n",
       "      <td>Feeling This Way</td>\n",
       "      <td>Polina Griffith</td>\n",
       "      <td>dance</td>\n",
       "      <td>Moscow</td>\n",
       "      <td>20:47:49</td>\n",
       "      <td>Wednesday</td>\n",
       "    </tr>\n",
       "    <tr>\n",
       "      <th>8</th>\n",
       "      <td>8FA1D3BE</td>\n",
       "      <td>И вновь продолжается бой</td>\n",
       "      <td>NaN</td>\n",
       "      <td>ruspop</td>\n",
       "      <td>Moscow</td>\n",
       "      <td>09:17:40</td>\n",
       "      <td>Friday</td>\n",
       "    </tr>\n",
       "    <tr>\n",
       "      <th>9</th>\n",
       "      <td>E772D5C0</td>\n",
       "      <td>Pessimist</td>\n",
       "      <td>NaN</td>\n",
       "      <td>dance</td>\n",
       "      <td>Saint-Petersburg</td>\n",
       "      <td>21:20:49</td>\n",
       "      <td>Wednesday</td>\n",
       "    </tr>\n",
       "  </tbody>\n",
       "</table>\n",
       "</div>"
      ],
      "text/plain": [
       "     userID                        Track            artist   genre  \\\n",
       "0  FFB692EC            Kamigata To Boots  The Mass Missile    rock   \n",
       "1  55204538  Delayed Because of Accident  Andreas Rönnberg    rock   \n",
       "2    20EC38            Funiculì funiculà       Mario Lanza     pop   \n",
       "3  A3DD03C9        Dragons in the Sunset        Fire + Ice    folk   \n",
       "4  E2DC1FAE                  Soul People        Space Echo   dance   \n",
       "5  842029A1                    Преданная         IMPERVTOR  rusrap   \n",
       "6  4CB90AA5                         True      Roman Messer   dance   \n",
       "7  F03E1C1F             Feeling This Way   Polina Griffith   dance   \n",
       "8  8FA1D3BE     И вновь продолжается бой               NaN  ruspop   \n",
       "9  E772D5C0                    Pessimist               NaN   dance   \n",
       "\n",
       "             City        time        Day  \n",
       "0  Saint-Petersburg  20:28:33  Wednesday  \n",
       "1            Moscow  14:07:09     Friday  \n",
       "2  Saint-Petersburg  20:58:07  Wednesday  \n",
       "3  Saint-Petersburg  08:37:09     Monday  \n",
       "4            Moscow  08:34:34     Monday  \n",
       "5  Saint-Petersburg  13:09:41     Friday  \n",
       "6            Moscow  13:00:07  Wednesday  \n",
       "7            Moscow  20:47:49  Wednesday  \n",
       "8            Moscow  09:17:40     Friday  \n",
       "9  Saint-Petersburg  21:20:49  Wednesday  "
      ]
     },
     "execution_count": 332,
     "metadata": {},
     "output_type": "execute_result"
    }
   ],
   "source": [
    "# получение первых 10 строк таблицы df\n",
    "df.head(10)"
   ]
  },
  {
   "cell_type": "markdown",
   "metadata": {
    "deletable": false,
    "editable": false,
    "id": "EO73Kwic_Zct",
    "tags": [
     "start_task"
    ]
   },
   "source": [
    "**Задание 4**\n",
    "\n",
    "\n",
    "Одной командой получить общую информацию о таблице c помощью метода `info()`:"
   ]
  },
  {
   "cell_type": "code",
   "execution_count": 333,
   "metadata": {
    "deletable": false,
    "id": "DSf2kIb-_Zct"
   },
   "outputs": [
    {
     "name": "stdout",
     "output_type": "stream",
     "text": [
      "<class 'pandas.core.frame.DataFrame'>\n",
      "RangeIndex: 65079 entries, 0 to 65078\n",
      "Data columns (total 7 columns):\n",
      " #   Column    Non-Null Count  Dtype \n",
      "---  ------    --------------  ----- \n",
      " 0     userID  65079 non-null  object\n",
      " 1   Track     63848 non-null  object\n",
      " 2   artist    57876 non-null  object\n",
      " 3   genre     63881 non-null  object\n",
      " 4     City    65079 non-null  object\n",
      " 5   time      65079 non-null  object\n",
      " 6   Day       65079 non-null  object\n",
      "dtypes: object(7)\n",
      "memory usage: 3.5+ MB\n"
     ]
    }
   ],
   "source": [
    "# получение общей информации о данных в таблице df\n",
    "df.info()"
   ]
  },
  {
   "cell_type": "markdown",
   "metadata": {
    "deletable": false,
    "editable": false,
    "id": "TaQ2Iwbr_Zct"
   },
   "source": [
    "Итак, в таблице семь столбцов. Тип данных во всех столбцах — `object`.\n",
    "\n",
    "Согласно документации к данным:\n",
    "* `userID` — идентификатор пользователя;\n",
    "* `Track` — название трека;  \n",
    "* `artist` — имя исполнителя;\n",
    "* `genre` — название жанра;\n",
    "* `City` — город пользователя;\n",
    "* `time` — время начала прослушивания;\n",
    "* `Day` — день недели.\n",
    "\n",
    "Количество значений в столбцах различается. Значит, в данных есть пропущенные значения."
   ]
  },
  {
   "cell_type": "markdown",
   "metadata": {
    "deletable": false,
    "editable": false,
    "id": "4P0UCWzswgEm",
    "tags": [
     "start_task"
    ]
   },
   "source": [
    "**Задание 5**\n",
    "\n",
    "**Вопрос со свободной формой ответа**\n",
    "\n",
    "В названиях колонок видны три нарушения стиля:\n",
    "1. Строчные буквы сочетаются с прописными.\n",
    "2. Встречаются пробелы."
   ]
  },
  {
   "cell_type": "code",
   "execution_count": 334,
   "metadata": {
    "id": "c137-ZstwgEm"
   },
   "outputs": [],
   "source": [
    "# Напишите ваш ответ здесь комментарием. Не удаляйте символ #. Не меняйте тип этой ячейки на Markdown.\n",
    "# 3. Нет нижнего подчеркивания."
   ]
  },
  {
   "cell_type": "markdown",
   "metadata": {
    "deletable": false,
    "editable": false,
    "id": "MCB6-dXG_Zct"
   },
   "source": [
    "**Выводы**\n",
    "\n",
    "В каждой строке таблицы — данные о прослушанном треке. Часть колонок описывает саму композицию: название, исполнителя и жанр. Остальные данные рассказывают о пользователе: из какого он города, когда он слушал музыку. \n",
    "\n",
    "Предварительно можно утверждать, что, данных достаточно для проверки гипотез. Но встречаются пропуски в данных, а в названиях колонок — расхождения с хорошим стилем.\n",
    "\n",
    "Чтобы двигаться дальше, нужно устранить проблемы в данных."
   ]
  },
  {
   "cell_type": "markdown",
   "metadata": {
    "deletable": false,
    "editable": false,
    "id": "SjYF6Ub9_Zct"
   },
   "source": [
    "## Предобработка данных\n",
    "Исправьте стиль в заголовках столбцов, исключите пропуски. Затем проверьте данные на дубликаты."
   ]
  },
  {
   "cell_type": "markdown",
   "metadata": {
    "deletable": false,
    "editable": false,
    "id": "dIaKXr29_Zct",
    "tags": [
     "start_task"
    ]
   },
   "source": [
    "### Стиль заголовков\n",
    "\n",
    "**Задание 6**\n",
    "\n",
    "Выведите на экран названия столбцов:"
   ]
  },
  {
   "cell_type": "code",
   "execution_count": 335,
   "metadata": {
    "deletable": false,
    "id": "oKOTdF_Q_Zct"
   },
   "outputs": [
    {
     "data": {
      "text/plain": [
       "Index(['  userID', 'Track', 'artist', 'genre', '  City  ', 'time', 'Day'], dtype='object')"
      ]
     },
     "execution_count": 335,
     "metadata": {},
     "output_type": "execute_result"
    }
   ],
   "source": [
    "# перечень названий столбцов таблицы df\n",
    "df.columns"
   ]
  },
  {
   "cell_type": "markdown",
   "metadata": {
    "deletable": false,
    "editable": false,
    "id": "zj5534cv_Zct",
    "tags": [
     "start_task"
    ]
   },
   "source": [
    "**Задание 7**\n",
    "\n",
    "\n",
    "Приведите названия в соответствие с хорошим стилем:\n",
    "* несколько слов в названии запишите в «змеином_регистре»,\n",
    "* все символы сделайте строчными,\n",
    "* устраните пробелы.\n",
    "\n",
    "Для этого переименуйте колонки так:\n",
    "* `'  userID'` → `'user_id'`;\n",
    "* `'Track'` → `'track'`;\n",
    "* `'  City  '` → `'city'`;\n",
    "* `'Day'` → `'day'`."
   ]
  },
  {
   "cell_type": "code",
   "execution_count": 336,
   "metadata": {
    "deletable": false,
    "id": "ISlFqs5y_Zct"
   },
   "outputs": [],
   "source": [
    "# переименование столбцов\n",
    "df = df.rename(columns={\n",
    "    '  userID': 'user_id',\n",
    "    'Track': 'track',\n",
    "    '  City  ': 'city',\n",
    "    'Day': 'day'\n",
    "})"
   ]
  },
  {
   "cell_type": "markdown",
   "metadata": {
    "deletable": false,
    "editable": false,
    "id": "1dqbh00J_Zct",
    "tags": [
     "start_task"
    ]
   },
   "source": [
    "**Задание 8**\n",
    "\n",
    "\n",
    "Проверьте результат. Для этого ещё раз выведите на экран названия столбцов:"
   ]
  },
  {
   "cell_type": "code",
   "execution_count": 337,
   "metadata": {
    "deletable": false,
    "id": "d4NOAmTW_Zct"
   },
   "outputs": [
    {
     "data": {
      "text/plain": [
       "Index(['user_id', 'track', 'artist', 'genre', 'city', 'time', 'day'], dtype='object')"
      ]
     },
     "execution_count": 337,
     "metadata": {},
     "output_type": "execute_result"
    }
   ],
   "source": [
    "# проверка результатов - перечень названий столбцов\n",
    "df.columns"
   ]
  },
  {
   "cell_type": "markdown",
   "metadata": {
    "deletable": false,
    "editable": false,
    "id": "5ISfbcfY_Zct",
    "tags": [
     "start_task"
    ]
   },
   "source": [
    "### Пропуски значений\n",
    "\n",
    "**Задание 9**\n",
    "\n",
    "Сначала посчитайте, сколько в таблице пропущенных значений. Для этого достаточно двух методов `pandas`:"
   ]
  },
  {
   "cell_type": "code",
   "execution_count": 338,
   "metadata": {
    "deletable": false,
    "id": "RskX29qr_Zct"
   },
   "outputs": [
    {
     "data": {
      "text/plain": [
       "user_id       0\n",
       "track      1231\n",
       "artist     7203\n",
       "genre      1198\n",
       "city          0\n",
       "time          0\n",
       "day           0\n",
       "dtype: int64"
      ]
     },
     "execution_count": 338,
     "metadata": {},
     "output_type": "execute_result"
    }
   ],
   "source": [
    "# подсчёт пропусков\n",
    "df.isna().sum()"
   ]
  },
  {
   "cell_type": "markdown",
   "metadata": {
    "deletable": false,
    "editable": false,
    "id": "qubhgnlO_Zct"
   },
   "source": [
    "Не все пропущенные значения влияют на исследование. Так в `track` и `artist` пропуски не важны для вашей работы. Достаточно заменить их явными обозначениями.\n",
    "\n",
    "Но пропуски в `genre` могут помешать сравнению музыкальных вкусов в Москве и Санкт-Петербурге. На практике было бы правильно установить причину пропусков и восстановить данные. Такой возможности нет в учебном проекте. Придётся:\n",
    "* заполнить и эти пропуски явными обозначениями,\n",
    "* оценить, насколько они повредят расчётам. "
   ]
  },
  {
   "cell_type": "markdown",
   "metadata": {
    "deletable": false,
    "editable": false,
    "id": "fSv2laPA_Zct",
    "tags": [
     "start_task"
    ]
   },
   "source": [
    "**Задание 10**\n",
    "\n",
    "Замените пропущенные значения в столбцах `track`, `artist` и `genre` на строку `'unknown'`. Для этого создайте список `columns_to_replace`, переберите его элементы циклом `for` и для каждого столбца выполните замену пропущенных значений:"
   ]
  },
  {
   "cell_type": "code",
   "execution_count": 339,
   "metadata": {
    "deletable": false,
    "id": "KplB5qWs_Zct"
   },
   "outputs": [],
   "source": [
    "# перебор названий столбцов в цикле и замена пропущенных значений на 'unknown'\n",
    "columns_to_replace = ['track', 'artist', 'genre']\n",
    "for elem in columns_to_replace:\n",
    "    df[elem] = df[elem].fillna('unknown')"
   ]
  },
  {
   "cell_type": "markdown",
   "metadata": {
    "deletable": false,
    "editable": false,
    "id": "Ilsm-MZo_Zct",
    "tags": [
     "start_task"
    ]
   },
   "source": [
    "**Задание 11**\n",
    "\n",
    "Убедитесь, что в таблице не осталось пропусков. Для этого ещё раз посчитайте пропущенные значения."
   ]
  },
  {
   "cell_type": "code",
   "execution_count": 340,
   "metadata": {
    "deletable": false,
    "id": "Tq4nYRX4_Zct"
   },
   "outputs": [
    {
     "data": {
      "text/plain": [
       "user_id    0\n",
       "track      0\n",
       "artist     0\n",
       "genre      0\n",
       "city       0\n",
       "time       0\n",
       "day        0\n",
       "dtype: int64"
      ]
     },
     "execution_count": 340,
     "metadata": {},
     "output_type": "execute_result"
    }
   ],
   "source": [
    "# подсчёт пропусков\n",
    "df.isna().sum()"
   ]
  },
  {
   "cell_type": "markdown",
   "metadata": {
    "deletable": false,
    "editable": false,
    "id": "BWKRtBJ3_Zct",
    "tags": [
     "start_task"
    ]
   },
   "source": [
    "### Дубликаты\n",
    "\n",
    "**Задание 12**\n",
    "\n",
    "Посчитайте явные дубликаты в таблице одной командой:"
   ]
  },
  {
   "cell_type": "code",
   "execution_count": 341,
   "metadata": {
    "deletable": false,
    "id": "36eES_S0_Zct"
   },
   "outputs": [
    {
     "data": {
      "text/plain": [
       "3826"
      ]
     },
     "execution_count": 341,
     "metadata": {},
     "output_type": "execute_result"
    }
   ],
   "source": [
    "# подсчёт явных дубликатов\n",
    "df.duplicated().sum()"
   ]
  },
  {
   "cell_type": "markdown",
   "metadata": {
    "deletable": false,
    "editable": false,
    "id": "Ot25h6XR_Zct",
    "tags": [
     "start_task"
    ]
   },
   "source": [
    "**Задание 13**\n",
    "\n",
    "Вызовите специальный метод `pandas`, чтобы удалить явные дубликаты:"
   ]
  },
  {
   "cell_type": "code",
   "execution_count": 342,
   "metadata": {
    "deletable": false,
    "id": "exFHq6tt_Zct"
   },
   "outputs": [],
   "source": [
    "# удаление явных дубликатов (с удалением старых индексов и формированием новых)\n",
    "df = df.drop_duplicates()"
   ]
  },
  {
   "cell_type": "markdown",
   "metadata": {
    "deletable": false,
    "editable": false,
    "id": "Im2YwBEG_Zct",
    "tags": [
     "start_task"
    ]
   },
   "source": [
    "**Задание 14**\n",
    "\n",
    "Ещё раз посчитайте явные дубликаты в таблице — убедитесь, что полностью от них избавились:"
   ]
  },
  {
   "cell_type": "code",
   "execution_count": 343,
   "metadata": {
    "deletable": false,
    "id": "-8PuNWQ0_Zct"
   },
   "outputs": [
    {
     "data": {
      "text/plain": [
       "0"
      ]
     },
     "execution_count": 343,
     "metadata": {},
     "output_type": "execute_result"
    }
   ],
   "source": [
    "# проверка на отсутствие дубликатов\n",
    "df.duplicated().sum()"
   ]
  },
  {
   "cell_type": "markdown",
   "metadata": {
    "deletable": false,
    "editable": false,
    "id": "QlFBsxAr_Zct"
   },
   "source": [
    "Теперь избавьтесь от неявных дубликатов в колонке `genre`. Например, название одного и того же жанра может быть записано немного по-разному. Такие ошибки тоже повлияют на результат исследования."
   ]
  },
  {
   "cell_type": "markdown",
   "metadata": {
    "deletable": false,
    "editable": false,
    "id": "eSjWwsOh_Zct",
    "tags": [
     "start_task"
    ]
   },
   "source": [
    "**Задание 15**\n",
    "\n",
    "Выведите на экран список уникальных названий жанров, отсортированный в алфавитном порядке. Для этого:\n",
    "* извлеките нужный столбец датафрейма, \n",
    "* примените к нему метод сортировки,\n",
    "* для отсортированного столбца вызовите метод, который вернёт уникальные значения из столбца."
   ]
  },
  {
   "cell_type": "code",
   "execution_count": 344,
   "metadata": {
    "deletable": false,
    "id": "JIUcqzZN_Zct"
   },
   "outputs": [
    {
     "data": {
      "text/plain": [
       "array(['acid', 'acoustic', 'action', 'adult', 'africa', 'afrikaans',\n",
       "       'alternative', 'alternativepunk', 'ambient', 'americana',\n",
       "       'animated', 'anime', 'arabesk', 'arabic', 'arena',\n",
       "       'argentinetango', 'art', 'audiobook', 'author', 'avantgarde',\n",
       "       'axé', 'baile', 'balkan', 'beats', 'bigroom', 'black', 'bluegrass',\n",
       "       'blues', 'bollywood', 'bossa', 'brazilian', 'breakbeat', 'breaks',\n",
       "       'broadway', 'cantautori', 'cantopop', 'canzone', 'caribbean',\n",
       "       'caucasian', 'celtic', 'chamber', 'chanson', 'children', 'chill',\n",
       "       'chinese', 'choral', 'christian', 'christmas', 'classical',\n",
       "       'classicmetal', 'club', 'colombian', 'comedy', 'conjazz',\n",
       "       'contemporary', 'country', 'cuban', 'dance', 'dancehall',\n",
       "       'dancepop', 'dark', 'death', 'deep', 'deutschrock', 'deutschspr',\n",
       "       'dirty', 'disco', 'dnb', 'documentary', 'downbeat', 'downtempo',\n",
       "       'drum', 'dub', 'dubstep', 'eastern', 'easy', 'electronic',\n",
       "       'electropop', 'emo', 'entehno', 'epicmetal', 'estrada', 'ethnic',\n",
       "       'eurofolk', 'european', 'experimental', 'extrememetal', 'fado',\n",
       "       'fairytail', 'film', 'fitness', 'flamenco', 'folk', 'folklore',\n",
       "       'folkmetal', 'folkrock', 'folktronica', 'forró', 'frankreich',\n",
       "       'französisch', 'french', 'funk', 'future', 'gangsta', 'garage',\n",
       "       'german', 'ghazal', 'gitarre', 'glitch', 'gospel', 'gothic',\n",
       "       'grime', 'grunge', 'gypsy', 'handsup', \"hard'n'heavy\", 'hardcore',\n",
       "       'hardstyle', 'hardtechno', 'hip', 'hip-hop', 'hiphop',\n",
       "       'historisch', 'holiday', 'hop', 'horror', 'house', 'hymn', 'idm',\n",
       "       'independent', 'indian', 'indie', 'indipop', 'industrial',\n",
       "       'inspirational', 'instrumental', 'international', 'irish', 'jam',\n",
       "       'japanese', 'jazz', 'jewish', 'jpop', 'jungle', 'k-pop',\n",
       "       'karadeniz', 'karaoke', 'kayokyoku', 'korean', 'laiko', 'latin',\n",
       "       'latino', 'leftfield', 'local', 'lounge', 'loungeelectronic',\n",
       "       'lovers', 'malaysian', 'mandopop', 'marschmusik', 'meditative',\n",
       "       'mediterranean', 'melodic', 'metal', 'metalcore', 'mexican',\n",
       "       'middle', 'minimal', 'miscellaneous', 'modern', 'mood', 'mpb',\n",
       "       'muslim', 'native', 'neoklassik', 'neue', 'new', 'newage',\n",
       "       'newwave', 'nu', 'nujazz', 'numetal', 'oceania', 'old', 'opera',\n",
       "       'orchestral', 'other', 'piano', 'podcasts', 'pop', 'popdance',\n",
       "       'popelectronic', 'popeurodance', 'poprussian', 'post',\n",
       "       'posthardcore', 'postrock', 'power', 'progmetal', 'progressive',\n",
       "       'psychedelic', 'punjabi', 'punk', 'quebecois', 'ragga', 'ram',\n",
       "       'rancheras', 'rap', 'rave', 'reggae', 'reggaeton', 'regional',\n",
       "       'relax', 'religious', 'retro', 'rhythm', 'rnb', 'rnr', 'rock',\n",
       "       'rockabilly', 'rockalternative', 'rockindie', 'rockother',\n",
       "       'romance', 'roots', 'ruspop', 'rusrap', 'rusrock', 'russian',\n",
       "       'salsa', 'samba', 'scenic', 'schlager', 'self', 'sertanejo',\n",
       "       'shanson', 'shoegazing', 'showtunes', 'singer', 'ska', 'skarock',\n",
       "       'slow', 'smooth', 'soft', 'soul', 'soulful', 'sound', 'soundtrack',\n",
       "       'southern', 'specialty', 'speech', 'spiritual', 'sport',\n",
       "       'stonerrock', 'surf', 'swing', 'synthpop', 'synthrock',\n",
       "       'sängerportrait', 'tango', 'tanzorchester', 'taraftar', 'tatar',\n",
       "       'tech', 'techno', 'teen', 'thrash', 'top', 'traditional',\n",
       "       'tradjazz', 'trance', 'tribal', 'trip', 'triphop', 'tropical',\n",
       "       'türk', 'türkçe', 'ukrrock', 'unknown', 'urban', 'uzbek',\n",
       "       'variété', 'vi', 'videogame', 'vocal', 'western', 'world',\n",
       "       'worldbeat', 'ïîï', 'электроника'], dtype=object)"
      ]
     },
     "execution_count": 344,
     "metadata": {},
     "output_type": "execute_result"
    }
   ],
   "source": [
    "# Просмотр уникальных названий жанров\n",
    "df['genre'].sort_values().unique()"
   ]
  },
  {
   "cell_type": "markdown",
   "metadata": {
    "deletable": false,
    "editable": false,
    "id": "qej-Qmuo_Zct",
    "tags": [
     "start_task"
    ]
   },
   "source": [
    "**Задание 16**\n",
    "\n",
    "Просмотрите список и найдите неявные дубликаты названия `hiphop`. Это могут быть названия с ошибками или альтернативные названия того же жанра.\n",
    "\n",
    "Вы увидите следующие неявные дубликаты:\n",
    "* *hip*,\n",
    "* *hop*,\n",
    "* *hip-hop*.\n",
    "\n",
    "Чтобы очистить от них таблицу используйте метод `replace()` с двумя аргументами: списком строк-дубликатов (включащий *hip*, *hop* и *hip-hop*) и строкой с правильным значением. Вам нужно исправить колонку `genre` в таблице `df`: заменить каждое значение из списка дубликатов на верное. Вместо `hip`, `hop` и `hip-hop` в таблице должно быть значение `hiphop`:"
   ]
  },
  {
   "cell_type": "code",
   "execution_count": 345,
   "metadata": {
    "deletable": false,
    "id": "ErNDkmns_Zct"
   },
   "outputs": [],
   "source": [
    "# Устранение неявных дубликатов\n",
    "df['genre'] = df['genre'].replace(['hip', 'hop', 'hip-hop'], 'hiphop')"
   ]
  },
  {
   "cell_type": "markdown",
   "metadata": {
    "deletable": false,
    "editable": false,
    "id": "zQKF16_RG15m",
    "tags": [
     "start_task"
    ]
   },
   "source": [
    "**Задание 17**\n",
    "\n",
    "Проверьте, что заменили неправильные названия:\n",
    "\n",
    "*   hip\n",
    "*   hop\n",
    "*   hip-hop\n",
    "\n",
    "Выведите отсортированный список уникальных значений столбца `genre`:"
   ]
  },
  {
   "cell_type": "code",
   "execution_count": 346,
   "metadata": {
    "deletable": false,
    "id": "wvixALnFG15m"
   },
   "outputs": [
    {
     "data": {
      "text/plain": [
       "array(['acid', 'acoustic', 'action', 'adult', 'africa', 'afrikaans',\n",
       "       'alternative', 'alternativepunk', 'ambient', 'americana',\n",
       "       'animated', 'anime', 'arabesk', 'arabic', 'arena',\n",
       "       'argentinetango', 'art', 'audiobook', 'author', 'avantgarde',\n",
       "       'axé', 'baile', 'balkan', 'beats', 'bigroom', 'black', 'bluegrass',\n",
       "       'blues', 'bollywood', 'bossa', 'brazilian', 'breakbeat', 'breaks',\n",
       "       'broadway', 'cantautori', 'cantopop', 'canzone', 'caribbean',\n",
       "       'caucasian', 'celtic', 'chamber', 'chanson', 'children', 'chill',\n",
       "       'chinese', 'choral', 'christian', 'christmas', 'classical',\n",
       "       'classicmetal', 'club', 'colombian', 'comedy', 'conjazz',\n",
       "       'contemporary', 'country', 'cuban', 'dance', 'dancehall',\n",
       "       'dancepop', 'dark', 'death', 'deep', 'deutschrock', 'deutschspr',\n",
       "       'dirty', 'disco', 'dnb', 'documentary', 'downbeat', 'downtempo',\n",
       "       'drum', 'dub', 'dubstep', 'eastern', 'easy', 'electronic',\n",
       "       'electropop', 'emo', 'entehno', 'epicmetal', 'estrada', 'ethnic',\n",
       "       'eurofolk', 'european', 'experimental', 'extrememetal', 'fado',\n",
       "       'fairytail', 'film', 'fitness', 'flamenco', 'folk', 'folklore',\n",
       "       'folkmetal', 'folkrock', 'folktronica', 'forró', 'frankreich',\n",
       "       'französisch', 'french', 'funk', 'future', 'gangsta', 'garage',\n",
       "       'german', 'ghazal', 'gitarre', 'glitch', 'gospel', 'gothic',\n",
       "       'grime', 'grunge', 'gypsy', 'handsup', \"hard'n'heavy\", 'hardcore',\n",
       "       'hardstyle', 'hardtechno', 'hiphop', 'historisch', 'holiday',\n",
       "       'horror', 'house', 'hymn', 'idm', 'independent', 'indian', 'indie',\n",
       "       'indipop', 'industrial', 'inspirational', 'instrumental',\n",
       "       'international', 'irish', 'jam', 'japanese', 'jazz', 'jewish',\n",
       "       'jpop', 'jungle', 'k-pop', 'karadeniz', 'karaoke', 'kayokyoku',\n",
       "       'korean', 'laiko', 'latin', 'latino', 'leftfield', 'local',\n",
       "       'lounge', 'loungeelectronic', 'lovers', 'malaysian', 'mandopop',\n",
       "       'marschmusik', 'meditative', 'mediterranean', 'melodic', 'metal',\n",
       "       'metalcore', 'mexican', 'middle', 'minimal', 'miscellaneous',\n",
       "       'modern', 'mood', 'mpb', 'muslim', 'native', 'neoklassik', 'neue',\n",
       "       'new', 'newage', 'newwave', 'nu', 'nujazz', 'numetal', 'oceania',\n",
       "       'old', 'opera', 'orchestral', 'other', 'piano', 'podcasts', 'pop',\n",
       "       'popdance', 'popelectronic', 'popeurodance', 'poprussian', 'post',\n",
       "       'posthardcore', 'postrock', 'power', 'progmetal', 'progressive',\n",
       "       'psychedelic', 'punjabi', 'punk', 'quebecois', 'ragga', 'ram',\n",
       "       'rancheras', 'rap', 'rave', 'reggae', 'reggaeton', 'regional',\n",
       "       'relax', 'religious', 'retro', 'rhythm', 'rnb', 'rnr', 'rock',\n",
       "       'rockabilly', 'rockalternative', 'rockindie', 'rockother',\n",
       "       'romance', 'roots', 'ruspop', 'rusrap', 'rusrock', 'russian',\n",
       "       'salsa', 'samba', 'scenic', 'schlager', 'self', 'sertanejo',\n",
       "       'shanson', 'shoegazing', 'showtunes', 'singer', 'ska', 'skarock',\n",
       "       'slow', 'smooth', 'soft', 'soul', 'soulful', 'sound', 'soundtrack',\n",
       "       'southern', 'specialty', 'speech', 'spiritual', 'sport',\n",
       "       'stonerrock', 'surf', 'swing', 'synthpop', 'synthrock',\n",
       "       'sängerportrait', 'tango', 'tanzorchester', 'taraftar', 'tatar',\n",
       "       'tech', 'techno', 'teen', 'thrash', 'top', 'traditional',\n",
       "       'tradjazz', 'trance', 'tribal', 'trip', 'triphop', 'tropical',\n",
       "       'türk', 'türkçe', 'ukrrock', 'unknown', 'urban', 'uzbek',\n",
       "       'variété', 'vi', 'videogame', 'vocal', 'western', 'world',\n",
       "       'worldbeat', 'ïîï', 'электроника'], dtype=object)"
      ]
     },
     "execution_count": 346,
     "metadata": {},
     "output_type": "execute_result"
    }
   ],
   "source": [
    "# Проверка на неявные дубликаты\n",
    "df['genre'].sort_values().unique()"
   ]
  },
  {
   "cell_type": "markdown",
   "metadata": {
    "deletable": false,
    "editable": false,
    "id": "jz6a9-7HQUDd"
   },
   "source": [
    "**Выводы**\n",
    "\n",
    "Предобработка обнаружила три проблемы в данных:\n",
    "\n",
    "- нарушения в стиле заголовков,\n",
    "- пропущенные значения,\n",
    "- дубликаты — явные и неявные.\n",
    "\n",
    "Вы исправили заголовки, чтобы упростить работу с таблицей. Без дубликатов исследование станет более точным.\n",
    "\n",
    "Пропущенные значения вы заменили на `'unknown'`. Ещё предстоит увидеть, не повредят ли исследованию пропуски в колонке `genre`.\n",
    "\n",
    "Теперь можно перейти к проверке гипотез. "
   ]
  },
  {
   "cell_type": "markdown",
   "metadata": {
    "deletable": false,
    "editable": false,
    "id": "WttZHXH0SqKk"
   },
   "source": [
    "## Проверка гипотез"
   ]
  },
  {
   "cell_type": "markdown",
   "metadata": {
    "deletable": false,
    "editable": false,
    "id": "Im936VVi_Zcu"
   },
   "source": [
    "### Сравнение поведения пользователей двух столиц"
   ]
  },
  {
   "cell_type": "markdown",
   "metadata": {
    "deletable": false,
    "editable": false,
    "id": "nwt_MuaL_Zcu"
   },
   "source": [
    "Первая гипотеза утверждает, что пользователи по-разному слушают музыку в Москве и Санкт-Петербурге. Проверьте это предположение по данным о трёх днях недели — понедельнике, среде и пятнице. Для этого:\n",
    "\n",
    "* Разделите пользователей Москвы и Санкт-Петербурга\n",
    "* Сравните, сколько треков послушала каждая группа пользователей в понедельник, среду и пятницу.\n"
   ]
  },
  {
   "cell_type": "markdown",
   "metadata": {
    "deletable": false,
    "editable": false,
    "id": "8Dw_YMmT_Zcu",
    "tags": [
     "start_task"
    ]
   },
   "source": [
    "**Задание 18**\n",
    "\n",
    "Для тренировки сначала выполните каждый из расчётов по отдельности. \n",
    "\n",
    "Оцените активность пользователей в каждом городе. Сгруппируйте данные по городу и посчитайте прослушивания в каждой группе.\n",
    "\n"
   ]
  },
  {
   "cell_type": "code",
   "execution_count": 347,
   "metadata": {
    "deletable": false,
    "id": "0_Qs96oh_Zcu"
   },
   "outputs": [
    {
     "data": {
      "text/plain": [
       "city\n",
       "Moscow              42741\n",
       "Saint-Petersburg    18512\n",
       "Name: track, dtype: int64"
      ]
     },
     "execution_count": 347,
     "metadata": {},
     "output_type": "execute_result"
    }
   ],
   "source": [
    "# Подсчёт прослушиваний в каждом городе\n",
    "df.groupby('city')['track'].count()\n"
   ]
  },
  {
   "cell_type": "markdown",
   "metadata": {
    "deletable": false,
    "editable": false,
    "id": "dzli3w8o_Zcu",
    "tags": [
     "start_task"
    ]
   },
   "source": [
    "В Москве прослушиваний больше, чем в Петербурге. Из этого не следует, что московские пользователи чаще слушают музыку. Просто самих пользователей в Москве больше.\n",
    "\n",
    "**Задание 19**\n",
    "\n",
    "Теперь сгруппируйте данные по дню недели и подсчитайте прослушивания в понедельник, среду и пятницу. Учтите, что в данных есть информация только о прослушиваниях только за эти дни.\n"
   ]
  },
  {
   "cell_type": "code",
   "execution_count": 348,
   "metadata": {
    "deletable": false,
    "id": "uZMKjiJz_Zcu"
   },
   "outputs": [
    {
     "data": {
      "text/plain": [
       "day\n",
       "Friday       21840\n",
       "Monday       21354\n",
       "Wednesday    18059\n",
       "Name: track, dtype: int64"
      ]
     },
     "execution_count": 348,
     "metadata": {},
     "output_type": "execute_result"
    }
   ],
   "source": [
    "# Подсчёт прослушиваний в каждый из трёх дней\n",
    "df.groupby('day')['track'].count()"
   ]
  },
  {
   "cell_type": "markdown",
   "metadata": {
    "deletable": false,
    "editable": false,
    "id": "cC2tNrlL_Zcu"
   },
   "source": [
    "В среднем пользователи из двух городов менее активны по средам. Но картина может измениться, если рассмотреть каждый город в отдельности."
   ]
  },
  {
   "cell_type": "markdown",
   "metadata": {
    "deletable": false,
    "editable": false,
    "id": "POzs8bGa_Zcu",
    "tags": [
     "start_task"
    ]
   },
   "source": [
    "**Задание 20**\n",
    "\n",
    "\n",
    "Вы видели, как работает группировка по городу и по дням недели. Теперь напишите функцию, которая объединит два эти расчёта.\n",
    "\n",
    "Создайте функцию `number_tracks()`, которая посчитает прослушивания для заданного дня и города. Ей понадобятся два параметра:\n",
    "* день недели,\n",
    "* название города.\n",
    "\n",
    "В функции сохраните в переменную строки исходной таблицы, у которых значение:\n",
    "  * в колонке `day` равно параметру `day`,\n",
    "  * в колонке `city` равно параметру `city`.\n",
    "\n",
    "Для этого примените последовательную фильтрацию с логической индексацией (или сложные логические выражения в одну строку, если вы уже знакомы с ними).\n",
    "\n",
    "Затем посчитайте значения в столбце `user_id` получившейся таблицы. Результат сохраните в новую переменную. Верните эту переменную из функции."
   ]
  },
  {
   "cell_type": "code",
   "execution_count": null,
   "metadata": {
    "deletable": false,
    "id": "Nz3GdQB1_Zcu"
   },
   "outputs": [],
   "source": [
    "# <создание функции number_tracks()>\n",
    "# Объявляется функция с двумя параметрами: day, city.\n",
    "# В переменной track_list сохраняются те строки таблицы df, для которых \n",
    "# значение в столбце 'day' равно параметру day и одновременно значение\n",
    "# в столбце 'city' равно параметру city (используйте последовательную фильтрацию\n",
    "# с помощью логической индексации или сложные логические выражения в одну строку, если вы уже знакомы с ними).\n",
    "# В переменной track_list_count сохраняется число значений столбца 'user_id',\n",
    "# рассчитанное методом count() для таблицы track_list.\n",
    "# Функция возвращает число - значение track_list_count.\n",
    "def number_tracks(day, city):\n",
    "    track_list = df[df['day'] == day]\n",
    "    track_list = track_list[track_list['city'] == city]\n",
    "    track_list_count = track_list['user_id'].count()\n",
    "    return track_list_count\n",
    "\n",
    "# Функция для подсчёта прослушиваний для конкретного города и дня.\n",
    "# С помощью последовательной фильтрации с логической индексацией она \n",
    "# сначала получит из исходной таблицы строки с нужным днём,\n",
    "# затем из результата отфильтрует строки с нужным городом,\n",
    "# методом count() посчитает количество значений в колонке user_id. \n",
    "# Это количество функция вернёт в качестве результата\n",
    "\n"
   ]
  },
  {
   "cell_type": "markdown",
   "metadata": {
    "deletable": false,
    "editable": false,
    "id": "ytf7xFrFJQ2r",
    "tags": [
     "start_task"
    ]
   },
   "source": [
    "**Задание 21**\n",
    "\n",
    "Вызовите `number_tracks()` шесть раз, меняя значение параметров — так, чтобы получить данные для каждого города в каждый из трёх дней."
   ]
  },
  {
   "cell_type": "code",
   "execution_count": 350,
   "metadata": {
    "deletable": false,
    "id": "rJcRATNQ_Zcu"
   },
   "outputs": [
    {
     "data": {
      "text/plain": [
       "15740"
      ]
     },
     "execution_count": 350,
     "metadata": {},
     "output_type": "execute_result"
    }
   ],
   "source": [
    "# количество прослушиваний в Москве по понедельникам\n",
    "number_tracks('Monday', 'Moscow')"
   ]
  },
  {
   "cell_type": "code",
   "execution_count": 351,
   "metadata": {
    "deletable": false,
    "id": "hq_ncZ5T_Zcu"
   },
   "outputs": [
    {
     "data": {
      "text/plain": [
       "5614"
      ]
     },
     "execution_count": 351,
     "metadata": {},
     "output_type": "execute_result"
    }
   ],
   "source": [
    "# количество прослушиваний в Санкт-Петербурге по понедельникам\n",
    "number_tracks('Monday', 'Saint-Petersburg')"
   ]
  },
  {
   "cell_type": "code",
   "execution_count": 352,
   "metadata": {
    "deletable": false,
    "id": "_NTy2VPU_Zcu"
   },
   "outputs": [
    {
     "data": {
      "text/plain": [
       "11056"
      ]
     },
     "execution_count": 352,
     "metadata": {},
     "output_type": "execute_result"
    }
   ],
   "source": [
    "# количество прослушиваний в Москве по средам\n",
    "number_tracks('Wednesday', 'Moscow')"
   ]
  },
  {
   "cell_type": "code",
   "execution_count": 353,
   "metadata": {
    "deletable": false,
    "id": "j2y3TAwo_Zcu"
   },
   "outputs": [
    {
     "data": {
      "text/plain": [
       "7003"
      ]
     },
     "execution_count": 353,
     "metadata": {},
     "output_type": "execute_result"
    }
   ],
   "source": [
    "# количество прослушиваний в Санкт-Петербурге по средам\n",
    "number_tracks('Wednesday', 'Saint-Petersburg')"
   ]
  },
  {
   "cell_type": "code",
   "execution_count": 354,
   "metadata": {
    "deletable": false,
    "id": "vYDw5u_K_Zcu"
   },
   "outputs": [
    {
     "data": {
      "text/plain": [
       "15945"
      ]
     },
     "execution_count": 354,
     "metadata": {},
     "output_type": "execute_result"
    }
   ],
   "source": [
    "# количество прослушиваний в Москве по пятницам\n",
    "number_tracks('Friday', 'Moscow')"
   ]
  },
  {
   "cell_type": "code",
   "execution_count": 355,
   "metadata": {
    "deletable": false,
    "id": "8_yzFtW3_Zcu"
   },
   "outputs": [
    {
     "data": {
      "text/plain": [
       "5895"
      ]
     },
     "execution_count": 355,
     "metadata": {},
     "output_type": "execute_result"
    }
   ],
   "source": [
    "# количество прослушиваний в Санкт-Петербурге по пятницам\n",
    "number_tracks('Friday', 'Saint-Petersburg')"
   ]
  },
  {
   "cell_type": "markdown",
   "metadata": {
    "deletable": false,
    "editable": false,
    "id": "7QXffbO-_Zcu",
    "tags": [
     "start_task"
    ]
   },
   "source": [
    "**Задание 22**\n",
    "\n",
    "Создайте c помощью конструктора `pd.DataFrame` таблицу, где\n",
    "* названия колонок — `['city', 'monday', 'wednesday', 'friday']`;\n",
    "* данные — результаты, которые вы получили с помощью `number_tracks`."
   ]
  },
  {
   "cell_type": "code",
   "execution_count": 356,
   "metadata": {
    "deletable": false,
    "id": "APAcLpOr_Zcu"
   },
   "outputs": [
    {
     "data": {
      "text/html": [
       "<div>\n",
       "<style scoped>\n",
       "    .dataframe tbody tr th:only-of-type {\n",
       "        vertical-align: middle;\n",
       "    }\n",
       "\n",
       "    .dataframe tbody tr th {\n",
       "        vertical-align: top;\n",
       "    }\n",
       "\n",
       "    .dataframe thead th {\n",
       "        text-align: right;\n",
       "    }\n",
       "</style>\n",
       "<table border=\"1\" class=\"dataframe\">\n",
       "  <thead>\n",
       "    <tr style=\"text-align: right;\">\n",
       "      <th></th>\n",
       "      <th>city</th>\n",
       "      <th>monday</th>\n",
       "      <th>wednesday</th>\n",
       "      <th>friday</th>\n",
       "    </tr>\n",
       "  </thead>\n",
       "  <tbody>\n",
       "    <tr>\n",
       "      <th>0</th>\n",
       "      <td>Moscow</td>\n",
       "      <td>15740</td>\n",
       "      <td>11056</td>\n",
       "      <td>15945</td>\n",
       "    </tr>\n",
       "    <tr>\n",
       "      <th>1</th>\n",
       "      <td>Saint-Petersburg</td>\n",
       "      <td>5614</td>\n",
       "      <td>7003</td>\n",
       "      <td>5895</td>\n",
       "    </tr>\n",
       "  </tbody>\n",
       "</table>\n",
       "</div>"
      ],
      "text/plain": [
       "               city  monday  wednesday  friday\n",
       "0            Moscow   15740      11056   15945\n",
       "1  Saint-Petersburg    5614       7003    5895"
      ]
     },
     "execution_count": 356,
     "metadata": {},
     "output_type": "execute_result"
    }
   ],
   "source": [
    "# Таблица с результатами\n",
    "days = ['Monday', 'Wednesday', 'Friday']\n",
    "msk_data = ['Moscow']\n",
    "spb_data = ['Saint-Petersburg']\n",
    "for value in days:\n",
    "    msk_data.append(number_tracks(value, 'Moscow'))\n",
    "for value in days:\n",
    "    spb_data.append(number_tracks(value, 'Saint-Petersburg'))\n",
    "cities_data = [msk_data, spb_data]\n",
    "info = pd.DataFrame(data=cities_data, columns=['city', 'monday', 'wednesday', 'friday'])\n",
    "info"
   ]
  },
  {
   "cell_type": "markdown",
   "metadata": {
    "deletable": false,
    "editable": false,
    "id": "-EgPIHYu_Zcu"
   },
   "source": [
    "**Выводы**\n",
    "\n",
    "Данные показывают разницу поведения пользователей:\n",
    "\n",
    "- В Москве пик прослушиваний приходится на понедельник и пятницу, а в среду заметен спад.\n",
    "- В Петербурге, наоборот, больше слушают музыку по средам. Активность в понедельник и пятницу здесь почти в равной мере уступает среде.\n",
    "\n",
    "Значит, данные говорят в пользу первой гипотезы."
   ]
  },
  {
   "cell_type": "markdown",
   "metadata": {
    "deletable": false,
    "editable": false,
    "id": "atZAxtq4_Zcu"
   },
   "source": [
    "### Музыка в начале и в конце недели"
   ]
  },
  {
   "cell_type": "markdown",
   "metadata": {
    "deletable": false,
    "editable": false,
    "id": "eXrQqXFH_Zcu"
   },
   "source": [
    "Согласно второй гипотезе, утром в понедельник в Москве преобладают одни жанры, а в Петербурге — другие. Так же и вечером пятницы преобладают разные жанры — в зависимости от города."
   ]
  },
  {
   "cell_type": "markdown",
   "metadata": {
    "deletable": false,
    "editable": false,
    "id": "S8UcW6Hw_Zcu",
    "tags": [
     "start_task"
    ]
   },
   "source": [
    "**Задание 23**\n",
    "\n",
    "Сохраните таблицы с данными в две переменные:\n",
    "* по Москве — в `moscow_general`;\n",
    "* по Санкт-Петербургу — в `spb_general`."
   ]
  },
  {
   "cell_type": "code",
   "execution_count": 357,
   "metadata": {
    "deletable": false,
    "id": "qeaFfM_P_Zcu"
   },
   "outputs": [],
   "source": [
    "# получение таблицы moscow_general из тех строк таблицы df, \n",
    "# для которых значение в столбце 'city' равно 'Moscow'\n",
    "moscow_general = df[df['city'] == 'Moscow']"
   ]
  },
  {
   "cell_type": "code",
   "execution_count": 358,
   "metadata": {
    "deletable": false,
    "id": "ORaVRKto_Zcu"
   },
   "outputs": [],
   "source": [
    "# получение таблицы spb_general из тех строк таблицы df,\n",
    "# для которых значение в столбце 'city' равно 'Saint-Petersburg'\n",
    "spb_general = df[df['city'] == 'Saint-Petersburg']"
   ]
  },
  {
   "cell_type": "markdown",
   "metadata": {
    "deletable": false,
    "id": "MEJV-CX2_Zcu",
    "tags": [
     "start_task"
    ]
   },
   "source": [
    "**Задание 24**\n",
    "\n",
    "Создайте функцию `genre_weekday()` с четырьмя параметрами:\n",
    "* таблица (датафрейм) с данными,\n",
    "* день недели,\n",
    "* начальная временная метка в формате 'hh:mm', \n",
    "* последняя временная метка в формате 'hh:mm'.\n",
    "\n",
    "Функция должна вернуть информацию о топ-10 жанров тех треков, которые прослушивали в указанный день, в промежутке между двумя отметками времени."
   ]
  },
  {
   "cell_type": "code",
   "execution_count": 359,
   "metadata": {
    "deletable": false,
    "id": "laJT9BYl_Zcu"
   },
   "outputs": [],
   "source": [
    "# Объявление функции genre_weekday() с параметрами table, day, time1, time2,\n",
    "# которая возвращает информацию о самых популярных жанрах в указанный день в\n",
    "# заданное время:\n",
    "# 1) в переменную genre_df сохраняются те строки переданного датафрейма table, для\n",
    "#    которых одновременно:\n",
    "#    - значение в столбце day равно значению аргумента day\n",
    "#    - значение в столбце time больше значения аргумента time1\n",
    "#    - значение в столбце time меньше значения аргумента time2\n",
    "#    Используйте последовательную фильтрацию с помощью логической индексации.\n",
    "# 2) сгруппировать датафрейм genre_df по столбцу genre, взять один из его\n",
    "#    столбцов и посчитать методом count() количество записей для каждого из\n",
    "#    присутствующих жанров, получившийся Series записать в переменную\n",
    "#    genre_df_grouped\n",
    "# 3) отсортировать genre_df_grouped по убыванию встречаемости и сохранить\n",
    "#    в переменную genre_df_sorted\n",
    "# 4) вернуть Series из 10 первых значений genre_df_sorted, это будут топ-10\n",
    "#    популярных жанров (в указанный день, в заданное время)\n",
    "\n",
    "def genre_weekday(df, day, time1, time2):\n",
    "    # последовательная фильтрация\n",
    "    # оставляем в genre_df только те строки df, у которых день равен day\n",
    "    genre_df = df[df['day'] == day] # ваш код здесь\n",
    "    # оставляем в genre_df только те строки genre_df, у которых время меньше time2\n",
    "    genre_df = genre_df[genre_df['time'] < time2] # ваш код здесь\n",
    "    # оставляем в genre_df только те строки genre_df, у которых время больше time1\n",
    "    genre_df = genre_df[genre_df['time'] > time1] # ваш код здесь\n",
    "    # сгруппируем отфильтрованный датафрейм по столбцу с названиями жанров, возьмём столбец genre и посчитаем кол-во строк для каждого жанра методом count()\n",
    "    genre_df_grouped = genre_df.groupby('genre')['genre'].count() # ваш код здесь\n",
    "    # отсортируем результат по убыванию (чтобы в начале Series оказались самые популярные жанры)\n",
    "    genre_df_sorted = genre_df_grouped.sort_values(ascending=False) # ваш код здесь\n",
    "    # вернём Series с 10 самыми популярными жанрами в указанный отрезок времени заданного дня\n",
    "    return genre_df_sorted[:10]"
   ]
  },
  {
   "cell_type": "markdown",
   "metadata": {
    "deletable": false,
    "editable": false,
    "id": "la2s2_PF_Zcu",
    "tags": [
     "start_task"
    ]
   },
   "source": [
    "**Задание 25**\n",
    "\n",
    "\n",
    "Cравните результаты функции `genre_weekday()` для Москвы и Санкт-Петербурга в понедельник утром (с 7:00 до 11:00) и в пятницу вечером (с 17:00 до 23:00):"
   ]
  },
  {
   "cell_type": "code",
   "execution_count": 360,
   "metadata": {
    "deletable": false,
    "id": "yz7itPUQ_Zcu"
   },
   "outputs": [
    {
     "data": {
      "text/plain": [
       "genre\n",
       "pop            781\n",
       "dance          549\n",
       "electronic     480\n",
       "rock           474\n",
       "hiphop         286\n",
       "ruspop         186\n",
       "world          181\n",
       "rusrap         175\n",
       "alternative    164\n",
       "unknown        161\n",
       "Name: genre, dtype: int64"
      ]
     },
     "execution_count": 360,
     "metadata": {},
     "output_type": "execute_result"
    }
   ],
   "source": [
    "# вызов функции для утра понедельника в Москве (вместо df — таблица moscow_general)\n",
    "# объекты, хранящие время, являются строками и сравниваются как строки\n",
    "# пример вызова: genre_weekday(moscow_general, 'Monday', '07:00', '11:00')\n",
    "genre_weekday(moscow_general, 'Monday', '07:00', '11:00')"
   ]
  },
  {
   "cell_type": "code",
   "execution_count": 361,
   "metadata": {
    "deletable": false,
    "id": "kwUcHPdy_Zcu"
   },
   "outputs": [
    {
     "data": {
      "text/plain": [
       "genre\n",
       "pop            218\n",
       "dance          182\n",
       "rock           162\n",
       "electronic     147\n",
       "hiphop          80\n",
       "ruspop          64\n",
       "alternative     58\n",
       "rusrap          55\n",
       "jazz            44\n",
       "classical       40\n",
       "Name: genre, dtype: int64"
      ]
     },
     "execution_count": 361,
     "metadata": {},
     "output_type": "execute_result"
    }
   ],
   "source": [
    "# вызов функции для утра понедельника в Петербурге (вместо df — таблица spb_general)\n",
    "genre_weekday(spb_general, 'Monday', '07:00', '11:00')"
   ]
  },
  {
   "cell_type": "code",
   "execution_count": 362,
   "metadata": {
    "deletable": false,
    "id": "EzXVRE1o_Zcu"
   },
   "outputs": [
    {
     "data": {
      "text/plain": [
       "genre\n",
       "pop            713\n",
       "rock           517\n",
       "dance          495\n",
       "electronic     482\n",
       "hiphop         273\n",
       "world          208\n",
       "ruspop         170\n",
       "alternative    163\n",
       "classical      163\n",
       "rusrap         142\n",
       "Name: genre, dtype: int64"
      ]
     },
     "execution_count": 362,
     "metadata": {},
     "output_type": "execute_result"
    }
   ],
   "source": [
    "# вызов функции для вечера пятницы в Москве\n",
    "genre_weekday(moscow_general, 'Friday', '17:00', '23:00')"
   ]
  },
  {
   "cell_type": "code",
   "execution_count": 363,
   "metadata": {
    "deletable": false,
    "id": "JZaEKu5v_Zcu"
   },
   "outputs": [
    {
     "data": {
      "text/plain": [
       "genre\n",
       "pop            256\n",
       "electronic     216\n",
       "rock           216\n",
       "dance          210\n",
       "hiphop          97\n",
       "alternative     63\n",
       "jazz            61\n",
       "classical       60\n",
       "rusrap          59\n",
       "world           54\n",
       "Name: genre, dtype: int64"
      ]
     },
     "execution_count": 363,
     "metadata": {},
     "output_type": "execute_result"
    }
   ],
   "source": [
    "# вызов функции для вечера пятницы в Петербурге\n",
    "genre_weekday(spb_general, 'Friday', '17:00', '23:00')"
   ]
  },
  {
   "cell_type": "markdown",
   "metadata": {
    "deletable": false,
    "editable": false,
    "id": "wrCe4MNX_Zcu"
   },
   "source": [
    "**Выводы**\n",
    "\n",
    "Если сравнить топ-10 жанров в понедельник утром, можно сделать такие выводы:\n",
    "\n",
    "1. В Москве и Петербурге слушают похожую музыку. Единственное отличие — в московский рейтинг вошёл жанр “world”, а в петербургский — джаз и классика.\n",
    "\n",
    "2. В Москве пропущенных значений оказалось так много, что значение `'unknown'` заняло десятое место среди самых популярных жанров. Значит, пропущенные значения занимают существенную долю в данных и угрожают достоверности исследования.\n",
    "\n",
    "Вечер пятницы не меняет эту картину. Некоторые жанры поднимаются немного выше, другие спускаются, но в целом топ-10 остаётся тем же самым.\n",
    "\n",
    "Таким образом, вторая гипотеза подтвердилась лишь частично:\n",
    "* Пользователи слушают похожую музыку в начале недели и в конце.\n",
    "* Разница между Москвой и Петербургом не слишком выражена. В Москве чаще слушают русскую популярную музыку, в Петербурге — джаз.\n",
    "\n",
    "Однако пропуски в данных ставят под сомнение этот результат. В Москве их так много, что рейтинг топ-10 мог бы выглядеть иначе, если бы не утерянные  данные о жанрах."
   ]
  },
  {
   "cell_type": "markdown",
   "metadata": {
    "deletable": false,
    "editable": false,
    "id": "JolODAqr_Zcu"
   },
   "source": [
    "### Жанровые предпочтения в Москве и Петербурге\n",
    "\n",
    "Гипотеза: Петербург — столица рэпа, музыку этого жанра там слушают чаще, чем в Москве.  А Москва — город контрастов, в котором, тем не менее, преобладает поп-музыка."
   ]
  },
  {
   "cell_type": "markdown",
   "metadata": {
    "deletable": false,
    "editable": false,
    "id": "DlegSvaT_Zcu",
    "tags": [
     "start_task"
    ]
   },
   "source": [
    "**Задание 26**\n",
    "\n",
    "Сгруппируйте таблицу `moscow_general` по жанру и посчитайте прослушивания треков каждого жанра методом `count()`. Затем отсортируйте результат в порядке убывания и сохраните его в таблице `moscow_genres`."
   ]
  },
  {
   "cell_type": "code",
   "execution_count": 369,
   "metadata": {
    "deletable": false,
    "id": "r19lIPke_Zcu"
   },
   "outputs": [
    {
     "data": {
      "text/plain": [
       "genre\n",
       "pop            5892\n",
       "dance          4435\n",
       "rock           3965\n",
       "electronic     3786\n",
       "hiphop         2096\n",
       "               ... \n",
       "neoklassik        1\n",
       "mood              1\n",
       "metalcore         1\n",
       "marschmusik       1\n",
       "ïîï               1\n",
       "Name: genre, Length: 267, dtype: int64"
      ]
     },
     "execution_count": 369,
     "metadata": {},
     "output_type": "execute_result"
    }
   ],
   "source": [
    "# одной строкой: группировка таблицы moscow_general по столбцу 'genre', \n",
    "# подсчёт числа значений 'genre' в этой группировке методом count(), \n",
    "# сортировка получившегося Series в порядке убывания и сохранение в moscow_genres\n",
    "moscow_genres = moscow_general.groupby('genre')['genre'].count().sort_values(ascending=False)"
   ]
  },
  {
   "cell_type": "markdown",
   "metadata": {
    "deletable": false,
    "editable": false,
    "id": "6kMuomxTiIr8",
    "tags": [
     "start_task"
    ]
   },
   "source": [
    "**Задание 27**\n",
    "\n",
    "Выведите на экран первые десять строк `moscow_genres`:"
   ]
  },
  {
   "cell_type": "code",
   "execution_count": 370,
   "metadata": {
    "deletable": false,
    "id": "WhCSooF8_Zcv"
   },
   "outputs": [
    {
     "data": {
      "text/plain": [
       "genre\n",
       "pop            5892\n",
       "dance          4435\n",
       "rock           3965\n",
       "electronic     3786\n",
       "hiphop         2096\n",
       "classical      1616\n",
       "world          1432\n",
       "alternative    1379\n",
       "ruspop         1372\n",
       "rusrap         1161\n",
       "Name: genre, dtype: int64"
      ]
     },
     "execution_count": 370,
     "metadata": {},
     "output_type": "execute_result"
    }
   ],
   "source": [
    "# просмотр первых 10 строк moscow_genres\n",
    "moscow_genres.head(10)"
   ]
  },
  {
   "cell_type": "markdown",
   "metadata": {
    "deletable": false,
    "editable": false,
    "id": "cnPG2vnN_Zcv",
    "tags": [
     "start_task"
    ]
   },
   "source": [
    "**Задание 28**\n",
    "\n",
    "\n",
    "Теперь повторите то же и для Петербурга.\n",
    "\n",
    "Сгруппируйте таблицу `spb_general` по жанру. Посчитайте прослушивания треков каждого жанра. Результат отсортируйте в порядке убывания и сохраните в таблице `spb_genres`:\n"
   ]
  },
  {
   "cell_type": "code",
   "execution_count": 371,
   "metadata": {
    "deletable": false,
    "id": "gluLIpE7_Zcv"
   },
   "outputs": [],
   "source": [
    "# одной строкой: группировка таблицы spb_general по столбцу 'genre', \n",
    "# подсчёт числа значений 'genre' в этой группировке методом count(), \n",
    "# сортировка получившегося Series в порядке убывания и сохранение в spb_genres\n",
    "spb_genres = spb_general.groupby('genre')['genre'].count().sort_values(ascending=False)"
   ]
  },
  {
   "cell_type": "markdown",
   "metadata": {
    "deletable": false,
    "editable": false,
    "id": "5Doha_ODgyQ8",
    "tags": [
     "start_task"
    ]
   },
   "source": [
    "**Задание 29**\n",
    "\n",
    "Выведите на экран первые десять строк `spb_genres`:"
   ]
  },
  {
   "cell_type": "code",
   "execution_count": 372,
   "metadata": {
    "deletable": false,
    "id": "uaGJHjVU_Zcv"
   },
   "outputs": [
    {
     "data": {
      "text/plain": [
       "genre\n",
       "pop            2431\n",
       "dance          1932\n",
       "rock           1879\n",
       "electronic     1736\n",
       "hiphop          960\n",
       "alternative     649\n",
       "classical       646\n",
       "rusrap          564\n",
       "ruspop          538\n",
       "world           515\n",
       "Name: genre, dtype: int64"
      ]
     },
     "execution_count": 372,
     "metadata": {},
     "output_type": "execute_result"
    }
   ],
   "source": [
    "# просмотр первых 10 строк spb_genres\n",
    "spb_genres.head(10)"
   ]
  },
  {
   "cell_type": "markdown",
   "metadata": {
    "deletable": false,
    "editable": false,
    "id": "RY51YJYu_Zcv"
   },
   "source": [
    "**Выводы**"
   ]
  },
  {
   "cell_type": "markdown",
   "metadata": {
    "deletable": false,
    "editable": false,
    "id": "nVhnJEm__Zcv"
   },
   "source": [
    "Гипотеза частично подтвердилась:\n",
    "* Поп-музыка — самый популярный жанр в Москве, как и предполагала гипотеза. Более того, в топ-10 жанров встречается близкий жанр — русская популярная музыка.\n",
    "* Вопреки ожиданиям, рэп одинаково популярен в Москве и Петербурге. \n"
   ]
  },
  {
   "cell_type": "markdown",
   "metadata": {
    "deletable": false,
    "editable": false,
    "id": "ykKQ0N65_Zcv"
   },
   "source": [
    "## Итоги исследования"
   ]
  },
  {
   "cell_type": "markdown",
   "metadata": {
    "deletable": false,
    "editable": false,
    "id": "tjUwbHb3_Zcv"
   },
   "source": [
    "Вы проверили три гипотезы и установили:\n",
    "\n",
    "1. День недели по-разному влияет на активность пользователей в Москве и Петербурге. \n",
    "\n",
    "Первая гипотеза полностью подтвердилась.\n",
    "\n",
    "2. Музыкальные предпочтения не сильно меняются в течение недели — будь то Москва или Петербург. Небольшие различия заметны в начале недели, по понедельникам:\n",
    "* в Москве слушают музыку жанра “world”,\n",
    "* в Петербурге — джаз и классику.\n",
    "\n",
    "Таким образом, вторая гипотеза подтвердилась лишь отчасти. Этот результат мог оказаться иным, если бы не пропуски в данных.\n",
    "\n",
    "3. Во вкусах пользователей Москвы и Петербурга больше общего чем различий. Вопреки ожиданиям, предпочтения жанров в Петербурге напоминают московские.\n",
    "\n",
    "Третья гипотеза не подтвердилась. Если различия в предпочтениях и существуют, на основной массе пользователей они незаметны.\n",
    "\n",
    "**На практике исследования содержат проверки статистических гипотез.**\n",
    "Из данных одного сервиса не всегда можно сделать вывод о всех жителях города.\n",
    "Проверки статистических гипотез покажут, насколько они достоверны, исходя из имеющихся данных. \n",
    "С методами проверок гипотез вы ещё познакомитесь в следующих темах."
   ]
  }
 ],
 "metadata": {
  "ExecuteTimeLog": [
   {
    "duration": 53,
    "start_time": "2023-02-03T08:23:46.826Z"
   },
   {
    "duration": 7,
    "start_time": "2023-02-03T08:24:00.210Z"
   },
   {
    "duration": 7,
    "start_time": "2023-02-03T08:24:01.162Z"
   },
   {
    "duration": 407,
    "start_time": "2023-02-03T08:24:04.660Z"
   },
   {
    "duration": 275,
    "start_time": "2023-02-03T08:24:06.751Z"
   },
   {
    "duration": 11,
    "start_time": "2023-02-03T08:25:41.162Z"
   },
   {
    "duration": 32,
    "start_time": "2023-02-03T08:26:00.474Z"
   },
   {
    "duration": 3,
    "start_time": "2023-02-03T15:59:47.912Z"
   },
   {
    "duration": 42,
    "start_time": "2023-02-03T16:02:32.519Z"
   },
   {
    "duration": 5,
    "start_time": "2023-02-03T16:02:59.511Z"
   },
   {
    "duration": 417,
    "start_time": "2023-02-03T16:03:40.460Z"
   },
   {
    "duration": 500,
    "start_time": "2023-02-03T16:03:40.879Z"
   },
   {
    "duration": 22,
    "start_time": "2023-02-03T16:03:41.382Z"
   },
   {
    "duration": 34,
    "start_time": "2023-02-03T16:03:41.407Z"
   },
   {
    "duration": 3,
    "start_time": "2023-02-03T16:03:41.443Z"
   },
   {
    "duration": 44,
    "start_time": "2023-02-03T16:03:41.447Z"
   },
   {
    "duration": 2,
    "start_time": "2023-02-03T16:03:41.493Z"
   },
   {
    "duration": 6,
    "start_time": "2023-02-03T16:03:41.497Z"
   },
   {
    "duration": 8,
    "start_time": "2023-02-03T16:03:41.504Z"
   },
   {
    "duration": 8,
    "start_time": "2023-02-03T16:03:41.515Z"
   },
   {
    "duration": 5,
    "start_time": "2023-02-03T16:03:41.525Z"
   },
   {
    "duration": 10,
    "start_time": "2023-02-03T16:03:41.532Z"
   },
   {
    "duration": 6,
    "start_time": "2023-02-03T16:03:41.543Z"
   },
   {
    "duration": 7,
    "start_time": "2023-02-03T16:03:41.551Z"
   },
   {
    "duration": 28,
    "start_time": "2023-02-03T16:03:41.559Z"
   },
   {
    "duration": 13,
    "start_time": "2023-02-03T16:03:41.589Z"
   },
   {
    "duration": 8,
    "start_time": "2023-02-03T16:03:41.603Z"
   },
   {
    "duration": 8,
    "start_time": "2023-02-03T16:03:41.612Z"
   },
   {
    "duration": 11,
    "start_time": "2023-02-03T16:03:41.621Z"
   },
   {
    "duration": 6,
    "start_time": "2023-02-03T16:03:41.634Z"
   },
   {
    "duration": 7,
    "start_time": "2023-02-03T16:03:41.641Z"
   },
   {
    "duration": 8,
    "start_time": "2023-02-03T16:03:41.650Z"
   },
   {
    "duration": 20,
    "start_time": "2023-02-03T16:03:41.659Z"
   },
   {
    "duration": 20,
    "start_time": "2023-02-03T16:03:41.681Z"
   },
   {
    "duration": 13,
    "start_time": "2023-02-03T16:03:41.702Z"
   },
   {
    "duration": 9,
    "start_time": "2023-02-03T16:03:41.717Z"
   },
   {
    "duration": 14,
    "start_time": "2023-02-03T16:03:41.727Z"
   },
   {
    "duration": 8,
    "start_time": "2023-02-03T16:03:41.744Z"
   },
   {
    "duration": 10,
    "start_time": "2023-02-03T16:03:41.753Z"
   },
   {
    "duration": 108,
    "start_time": "2023-02-03T16:03:41.765Z"
   },
   {
    "duration": 0,
    "start_time": "2023-02-03T16:03:41.875Z"
   },
   {
    "duration": 0,
    "start_time": "2023-02-03T16:03:41.876Z"
   },
   {
    "duration": 0,
    "start_time": "2023-02-03T16:03:41.877Z"
   },
   {
    "duration": 0,
    "start_time": "2023-02-03T16:03:41.879Z"
   },
   {
    "duration": 0,
    "start_time": "2023-02-03T16:03:41.880Z"
   },
   {
    "duration": 0,
    "start_time": "2023-02-03T16:03:41.882Z"
   },
   {
    "duration": 0,
    "start_time": "2023-02-03T16:03:41.883Z"
   },
   {
    "duration": 0,
    "start_time": "2023-02-03T16:03:41.884Z"
   },
   {
    "duration": 30,
    "start_time": "2023-02-03T16:03:59.243Z"
   },
   {
    "duration": 8,
    "start_time": "2023-02-03T16:04:04.693Z"
   },
   {
    "duration": 7,
    "start_time": "2023-02-03T16:04:42.615Z"
   },
   {
    "duration": 7,
    "start_time": "2023-02-03T16:04:48.900Z"
   },
   {
    "duration": 7,
    "start_time": "2023-02-03T16:04:56.597Z"
   },
   {
    "duration": 4,
    "start_time": "2023-02-03T16:05:39.994Z"
   },
   {
    "duration": 24,
    "start_time": "2023-02-03T16:10:28.661Z"
   },
   {
    "duration": 30,
    "start_time": "2023-02-03T16:10:32.458Z"
   },
   {
    "duration": 9,
    "start_time": "2023-02-03T16:10:46.697Z"
   },
   {
    "duration": 4,
    "start_time": "2023-02-03T16:12:06.156Z"
   },
   {
    "duration": 25,
    "start_time": "2023-02-03T16:14:09.295Z"
   },
   {
    "duration": 12,
    "start_time": "2023-02-03T16:29:33.323Z"
   },
   {
    "duration": 15,
    "start_time": "2023-02-03T16:29:37.484Z"
   },
   {
    "duration": 31,
    "start_time": "2023-02-03T16:30:01.017Z"
   },
   {
    "duration": 15,
    "start_time": "2023-02-03T16:31:54.797Z"
   },
   {
    "duration": 30,
    "start_time": "2023-02-03T16:31:56.832Z"
   },
   {
    "duration": 4,
    "start_time": "2023-02-03T16:32:01.864Z"
   },
   {
    "duration": 225,
    "start_time": "2023-02-03T16:32:01.871Z"
   },
   {
    "duration": 10,
    "start_time": "2023-02-03T16:32:02.097Z"
   },
   {
    "duration": 41,
    "start_time": "2023-02-03T16:32:02.108Z"
   },
   {
    "duration": 16,
    "start_time": "2023-02-03T16:32:02.151Z"
   },
   {
    "duration": 26,
    "start_time": "2023-02-03T16:32:02.171Z"
   },
   {
    "duration": 21,
    "start_time": "2023-02-03T16:32:02.199Z"
   },
   {
    "duration": 9,
    "start_time": "2023-02-03T16:32:02.222Z"
   },
   {
    "duration": 50,
    "start_time": "2023-02-03T16:32:02.233Z"
   },
   {
    "duration": 25,
    "start_time": "2023-02-03T16:32:02.289Z"
   },
   {
    "duration": 25,
    "start_time": "2023-02-03T16:32:02.315Z"
   },
   {
    "duration": 0,
    "start_time": "2023-02-03T16:32:02.343Z"
   },
   {
    "duration": 0,
    "start_time": "2023-02-03T16:32:02.344Z"
   },
   {
    "duration": 0,
    "start_time": "2023-02-03T16:32:02.345Z"
   },
   {
    "duration": 0,
    "start_time": "2023-02-03T16:32:02.347Z"
   },
   {
    "duration": 0,
    "start_time": "2023-02-03T16:32:02.348Z"
   },
   {
    "duration": 0,
    "start_time": "2023-02-03T16:32:02.350Z"
   },
   {
    "duration": 0,
    "start_time": "2023-02-03T16:32:02.351Z"
   },
   {
    "duration": 0,
    "start_time": "2023-02-03T16:32:02.352Z"
   },
   {
    "duration": 0,
    "start_time": "2023-02-03T16:32:02.354Z"
   },
   {
    "duration": 0,
    "start_time": "2023-02-03T16:32:02.355Z"
   },
   {
    "duration": 0,
    "start_time": "2023-02-03T16:32:02.367Z"
   },
   {
    "duration": 0,
    "start_time": "2023-02-03T16:32:02.367Z"
   },
   {
    "duration": 0,
    "start_time": "2023-02-03T16:32:02.368Z"
   },
   {
    "duration": 0,
    "start_time": "2023-02-03T16:32:02.369Z"
   },
   {
    "duration": 0,
    "start_time": "2023-02-03T16:32:02.369Z"
   },
   {
    "duration": 0,
    "start_time": "2023-02-03T16:32:02.370Z"
   },
   {
    "duration": 0,
    "start_time": "2023-02-03T16:32:02.372Z"
   },
   {
    "duration": 0,
    "start_time": "2023-02-03T16:32:02.373Z"
   },
   {
    "duration": 0,
    "start_time": "2023-02-03T16:32:02.375Z"
   },
   {
    "duration": 0,
    "start_time": "2023-02-03T16:32:02.376Z"
   },
   {
    "duration": 0,
    "start_time": "2023-02-03T16:32:02.377Z"
   },
   {
    "duration": 0,
    "start_time": "2023-02-03T16:32:02.378Z"
   },
   {
    "duration": 0,
    "start_time": "2023-02-03T16:32:02.379Z"
   },
   {
    "duration": 0,
    "start_time": "2023-02-03T16:32:02.380Z"
   },
   {
    "duration": 0,
    "start_time": "2023-02-03T16:32:02.381Z"
   },
   {
    "duration": 0,
    "start_time": "2023-02-03T16:32:02.383Z"
   },
   {
    "duration": 0,
    "start_time": "2023-02-03T16:32:02.384Z"
   },
   {
    "duration": 44,
    "start_time": "2023-02-03T16:32:23.588Z"
   },
   {
    "duration": 16,
    "start_time": "2023-02-03T16:32:41.227Z"
   },
   {
    "duration": 7,
    "start_time": "2023-02-03T16:33:50.895Z"
   },
   {
    "duration": 22,
    "start_time": "2023-02-03T16:36:16.156Z"
   },
   {
    "duration": 32,
    "start_time": "2023-02-03T16:36:18.366Z"
   },
   {
    "duration": 71,
    "start_time": "2023-02-03T16:36:54.652Z"
   },
   {
    "duration": 58,
    "start_time": "2023-02-03T16:37:04.277Z"
   },
   {
    "duration": 68,
    "start_time": "2023-02-03T16:39:42.591Z"
   },
   {
    "duration": 100,
    "start_time": "2023-02-03T16:39:45.271Z"
   },
   {
    "duration": 74,
    "start_time": "2023-02-03T16:40:48.455Z"
   },
   {
    "duration": 68,
    "start_time": "2023-02-03T16:41:28.531Z"
   },
   {
    "duration": 83,
    "start_time": "2023-02-03T16:41:34.502Z"
   },
   {
    "duration": 2,
    "start_time": "2023-02-03T16:41:47.920Z"
   },
   {
    "duration": 200,
    "start_time": "2023-02-03T16:41:47.924Z"
   },
   {
    "duration": 9,
    "start_time": "2023-02-03T16:41:48.126Z"
   },
   {
    "duration": 39,
    "start_time": "2023-02-03T16:41:48.137Z"
   },
   {
    "duration": 2,
    "start_time": "2023-02-03T16:41:48.180Z"
   },
   {
    "duration": 20,
    "start_time": "2023-02-03T16:41:48.184Z"
   },
   {
    "duration": 8,
    "start_time": "2023-02-03T16:41:48.205Z"
   },
   {
    "duration": 4,
    "start_time": "2023-02-03T16:41:48.214Z"
   },
   {
    "duration": 23,
    "start_time": "2023-02-03T16:41:48.220Z"
   },
   {
    "duration": 38,
    "start_time": "2023-02-03T16:41:48.244Z"
   },
   {
    "duration": 28,
    "start_time": "2023-02-03T16:41:48.284Z"
   },
   {
    "duration": 70,
    "start_time": "2023-02-03T16:41:48.314Z"
   },
   {
    "duration": 74,
    "start_time": "2023-02-03T16:41:48.386Z"
   },
   {
    "duration": 11,
    "start_time": "2023-02-03T16:41:48.468Z"
   },
   {
    "duration": 6,
    "start_time": "2023-02-03T16:41:48.481Z"
   },
   {
    "duration": 5,
    "start_time": "2023-02-03T16:41:48.488Z"
   },
   {
    "duration": 5,
    "start_time": "2023-02-03T16:41:48.494Z"
   },
   {
    "duration": 5,
    "start_time": "2023-02-03T16:41:48.500Z"
   },
   {
    "duration": 6,
    "start_time": "2023-02-03T16:41:48.506Z"
   },
   {
    "duration": 4,
    "start_time": "2023-02-03T16:41:48.513Z"
   },
   {
    "duration": 7,
    "start_time": "2023-02-03T16:41:48.519Z"
   },
   {
    "duration": 4,
    "start_time": "2023-02-03T16:41:48.528Z"
   },
   {
    "duration": 5,
    "start_time": "2023-02-03T16:41:48.534Z"
   },
   {
    "duration": 2,
    "start_time": "2023-02-03T16:41:48.543Z"
   },
   {
    "duration": 10,
    "start_time": "2023-02-03T16:41:48.570Z"
   },
   {
    "duration": 12,
    "start_time": "2023-02-03T16:41:48.582Z"
   },
   {
    "duration": 10,
    "start_time": "2023-02-03T16:41:48.596Z"
   },
   {
    "duration": 13,
    "start_time": "2023-02-03T16:41:48.608Z"
   },
   {
    "duration": 12,
    "start_time": "2023-02-03T16:41:48.623Z"
   },
   {
    "duration": 79,
    "start_time": "2023-02-03T16:41:48.637Z"
   },
   {
    "duration": 0,
    "start_time": "2023-02-03T16:41:48.717Z"
   },
   {
    "duration": 0,
    "start_time": "2023-02-03T16:41:48.719Z"
   },
   {
    "duration": 0,
    "start_time": "2023-02-03T16:41:48.720Z"
   },
   {
    "duration": 0,
    "start_time": "2023-02-03T16:41:48.721Z"
   },
   {
    "duration": 0,
    "start_time": "2023-02-03T16:41:48.722Z"
   },
   {
    "duration": 0,
    "start_time": "2023-02-03T16:41:48.723Z"
   },
   {
    "duration": 0,
    "start_time": "2023-02-03T16:41:48.724Z"
   },
   {
    "duration": 0,
    "start_time": "2023-02-03T16:41:48.725Z"
   },
   {
    "duration": 59,
    "start_time": "2023-02-03T16:42:59.795Z"
   },
   {
    "duration": 54,
    "start_time": "2023-02-03T16:44:47.236Z"
   },
   {
    "duration": 419,
    "start_time": "2023-02-03T16:45:48.048Z"
   },
   {
    "duration": 168,
    "start_time": "2023-02-03T16:45:48.469Z"
   },
   {
    "duration": 18,
    "start_time": "2023-02-03T16:45:48.638Z"
   },
   {
    "duration": 38,
    "start_time": "2023-02-03T16:45:48.658Z"
   },
   {
    "duration": 2,
    "start_time": "2023-02-03T16:45:48.698Z"
   },
   {
    "duration": 6,
    "start_time": "2023-02-03T16:45:48.702Z"
   },
   {
    "duration": 15,
    "start_time": "2023-02-03T16:45:48.710Z"
   },
   {
    "duration": 15,
    "start_time": "2023-02-03T16:45:48.726Z"
   },
   {
    "duration": 45,
    "start_time": "2023-02-03T16:45:48.743Z"
   },
   {
    "duration": 20,
    "start_time": "2023-02-03T16:45:48.792Z"
   },
   {
    "duration": 55,
    "start_time": "2023-02-03T16:45:48.813Z"
   },
   {
    "duration": 70,
    "start_time": "2023-02-03T16:45:48.870Z"
   },
   {
    "duration": 96,
    "start_time": "2023-02-03T16:45:48.941Z"
   },
   {
    "duration": 77,
    "start_time": "2023-02-03T16:45:49.039Z"
   },
   {
    "duration": 3,
    "start_time": "2023-02-03T16:45:49.118Z"
   },
   {
    "duration": 9,
    "start_time": "2023-02-03T16:45:49.123Z"
   },
   {
    "duration": 7,
    "start_time": "2023-02-03T16:45:49.134Z"
   },
   {
    "duration": 9,
    "start_time": "2023-02-03T16:45:49.143Z"
   },
   {
    "duration": 6,
    "start_time": "2023-02-03T16:45:49.153Z"
   },
   {
    "duration": 10,
    "start_time": "2023-02-03T16:45:49.167Z"
   },
   {
    "duration": 5,
    "start_time": "2023-02-03T16:45:49.179Z"
   },
   {
    "duration": 5,
    "start_time": "2023-02-03T16:45:49.185Z"
   },
   {
    "duration": 5,
    "start_time": "2023-02-03T16:45:49.191Z"
   },
   {
    "duration": 7,
    "start_time": "2023-02-03T16:45:49.197Z"
   },
   {
    "duration": 6,
    "start_time": "2023-02-03T16:45:49.205Z"
   },
   {
    "duration": 6,
    "start_time": "2023-02-03T16:45:49.212Z"
   },
   {
    "duration": 4,
    "start_time": "2023-02-03T16:45:49.220Z"
   },
   {
    "duration": 3,
    "start_time": "2023-02-03T16:45:49.228Z"
   },
   {
    "duration": 5,
    "start_time": "2023-02-03T16:45:49.232Z"
   },
   {
    "duration": 106,
    "start_time": "2023-02-03T16:45:49.238Z"
   },
   {
    "duration": 0,
    "start_time": "2023-02-03T16:45:49.346Z"
   },
   {
    "duration": 0,
    "start_time": "2023-02-03T16:45:49.348Z"
   },
   {
    "duration": 0,
    "start_time": "2023-02-03T16:45:49.349Z"
   },
   {
    "duration": 0,
    "start_time": "2023-02-03T16:45:49.350Z"
   },
   {
    "duration": 0,
    "start_time": "2023-02-03T16:45:49.352Z"
   },
   {
    "duration": 0,
    "start_time": "2023-02-03T16:45:49.353Z"
   },
   {
    "duration": 0,
    "start_time": "2023-02-03T16:45:49.354Z"
   },
   {
    "duration": 0,
    "start_time": "2023-02-03T16:45:49.358Z"
   },
   {
    "duration": 57,
    "start_time": "2023-02-03T17:00:40.611Z"
   },
   {
    "duration": 56,
    "start_time": "2023-02-03T17:00:43.317Z"
   },
   {
    "duration": 56,
    "start_time": "2023-02-03T17:00:51.528Z"
   },
   {
    "duration": 2,
    "start_time": "2023-02-03T17:01:07.936Z"
   },
   {
    "duration": 166,
    "start_time": "2023-02-03T17:01:09.932Z"
   },
   {
    "duration": 11,
    "start_time": "2023-02-03T17:01:12.362Z"
   },
   {
    "duration": 31,
    "start_time": "2023-02-03T17:01:15.607Z"
   },
   {
    "duration": 2,
    "start_time": "2023-02-03T17:01:20.057Z"
   },
   {
    "duration": 3,
    "start_time": "2023-02-03T17:01:22.486Z"
   },
   {
    "duration": 11,
    "start_time": "2023-02-03T17:01:25.811Z"
   },
   {
    "duration": 4,
    "start_time": "2023-02-03T17:01:27.820Z"
   },
   {
    "duration": 26,
    "start_time": "2023-02-03T17:01:29.983Z"
   },
   {
    "duration": 19,
    "start_time": "2023-02-03T17:01:32.685Z"
   },
   {
    "duration": 26,
    "start_time": "2023-02-03T17:01:35.667Z"
   },
   {
    "duration": 72,
    "start_time": "2023-02-03T17:01:38.156Z"
   },
   {
    "duration": 79,
    "start_time": "2023-02-03T17:01:40.595Z"
   },
   {
    "duration": 402,
    "start_time": "2023-02-03T17:14:58.056Z"
   },
   {
    "duration": 160,
    "start_time": "2023-02-03T17:14:58.460Z"
   },
   {
    "duration": 17,
    "start_time": "2023-02-03T17:14:58.622Z"
   },
   {
    "duration": 41,
    "start_time": "2023-02-03T17:14:58.642Z"
   },
   {
    "duration": 5,
    "start_time": "2023-02-03T17:14:58.685Z"
   },
   {
    "duration": 11,
    "start_time": "2023-02-03T17:14:58.692Z"
   },
   {
    "duration": 15,
    "start_time": "2023-02-03T17:14:58.705Z"
   },
   {
    "duration": 11,
    "start_time": "2023-02-03T17:14:58.722Z"
   },
   {
    "duration": 35,
    "start_time": "2023-02-03T17:14:58.735Z"
   },
   {
    "duration": 19,
    "start_time": "2023-02-03T17:14:58.773Z"
   },
   {
    "duration": 23,
    "start_time": "2023-02-03T17:14:58.794Z"
   },
   {
    "duration": 107,
    "start_time": "2023-02-03T17:14:58.819Z"
   },
   {
    "duration": 79,
    "start_time": "2023-02-03T17:14:58.928Z"
   },
   {
    "duration": 3,
    "start_time": "2023-02-03T17:14:59.009Z"
   },
   {
    "duration": 5,
    "start_time": "2023-02-03T17:14:59.013Z"
   },
   {
    "duration": 5,
    "start_time": "2023-02-03T17:14:59.019Z"
   },
   {
    "duration": 10,
    "start_time": "2023-02-03T17:14:59.025Z"
   },
   {
    "duration": 9,
    "start_time": "2023-02-03T17:14:59.037Z"
   },
   {
    "duration": 7,
    "start_time": "2023-02-03T17:14:59.047Z"
   },
   {
    "duration": 4,
    "start_time": "2023-02-03T17:14:59.056Z"
   },
   {
    "duration": 8,
    "start_time": "2023-02-03T17:14:59.061Z"
   },
   {
    "duration": 5,
    "start_time": "2023-02-03T17:14:59.070Z"
   },
   {
    "duration": 5,
    "start_time": "2023-02-03T17:14:59.076Z"
   },
   {
    "duration": 5,
    "start_time": "2023-02-03T17:14:59.082Z"
   },
   {
    "duration": 10,
    "start_time": "2023-02-03T17:14:59.089Z"
   },
   {
    "duration": 7,
    "start_time": "2023-02-03T17:14:59.100Z"
   },
   {
    "duration": 5,
    "start_time": "2023-02-03T17:14:59.109Z"
   },
   {
    "duration": 5,
    "start_time": "2023-02-03T17:14:59.117Z"
   },
   {
    "duration": 8,
    "start_time": "2023-02-03T17:14:59.123Z"
   },
   {
    "duration": 102,
    "start_time": "2023-02-03T17:14:59.133Z"
   },
   {
    "duration": 0,
    "start_time": "2023-02-03T17:14:59.237Z"
   },
   {
    "duration": 0,
    "start_time": "2023-02-03T17:14:59.238Z"
   },
   {
    "duration": 0,
    "start_time": "2023-02-03T17:14:59.239Z"
   },
   {
    "duration": 0,
    "start_time": "2023-02-03T17:14:59.241Z"
   },
   {
    "duration": 0,
    "start_time": "2023-02-03T17:14:59.242Z"
   },
   {
    "duration": 0,
    "start_time": "2023-02-03T17:14:59.243Z"
   },
   {
    "duration": 0,
    "start_time": "2023-02-03T17:14:59.244Z"
   },
   {
    "duration": 0,
    "start_time": "2023-02-03T17:14:59.246Z"
   },
   {
    "duration": 58,
    "start_time": "2023-02-03T17:23:40.980Z"
   },
   {
    "duration": 63,
    "start_time": "2023-02-03T17:25:09.216Z"
   },
   {
    "duration": 45,
    "start_time": "2023-02-03T17:25:15.240Z"
   },
   {
    "duration": 52,
    "start_time": "2023-02-03T17:26:12.652Z"
   },
   {
    "duration": 50,
    "start_time": "2023-02-03T17:26:27.426Z"
   },
   {
    "duration": 44,
    "start_time": "2023-02-03T17:27:57.713Z"
   },
   {
    "duration": 10,
    "start_time": "2023-02-03T17:34:56.374Z"
   },
   {
    "duration": 13,
    "start_time": "2023-02-03T17:35:37.834Z"
   },
   {
    "duration": 9,
    "start_time": "2023-02-03T17:35:45.191Z"
   },
   {
    "duration": 12,
    "start_time": "2023-02-03T17:36:02.591Z"
   },
   {
    "duration": 410,
    "start_time": "2023-02-03T17:36:09.748Z"
   },
   {
    "duration": 165,
    "start_time": "2023-02-03T17:36:10.160Z"
   },
   {
    "duration": 17,
    "start_time": "2023-02-03T17:36:10.326Z"
   },
   {
    "duration": 42,
    "start_time": "2023-02-03T17:36:10.344Z"
   },
   {
    "duration": 3,
    "start_time": "2023-02-03T17:36:10.387Z"
   },
   {
    "duration": 6,
    "start_time": "2023-02-03T17:36:10.391Z"
   },
   {
    "duration": 12,
    "start_time": "2023-02-03T17:36:10.398Z"
   },
   {
    "duration": 6,
    "start_time": "2023-02-03T17:36:10.412Z"
   },
   {
    "duration": 26,
    "start_time": "2023-02-03T17:36:10.419Z"
   },
   {
    "duration": 19,
    "start_time": "2023-02-03T17:36:10.468Z"
   },
   {
    "duration": 49,
    "start_time": "2023-02-03T17:36:10.488Z"
   },
   {
    "duration": 85,
    "start_time": "2023-02-03T17:36:10.538Z"
   },
   {
    "duration": 78,
    "start_time": "2023-02-03T17:36:10.625Z"
   },
   {
    "duration": 66,
    "start_time": "2023-02-03T17:36:10.704Z"
   },
   {
    "duration": 39,
    "start_time": "2023-02-03T17:36:10.772Z"
   },
   {
    "duration": 12,
    "start_time": "2023-02-03T17:36:10.813Z"
   },
   {
    "duration": 4,
    "start_time": "2023-02-03T17:36:10.827Z"
   },
   {
    "duration": 6,
    "start_time": "2023-02-03T17:36:10.832Z"
   },
   {
    "duration": 27,
    "start_time": "2023-02-03T17:36:10.840Z"
   },
   {
    "duration": 2,
    "start_time": "2023-02-03T17:36:10.869Z"
   },
   {
    "duration": 8,
    "start_time": "2023-02-03T17:36:10.873Z"
   },
   {
    "duration": 5,
    "start_time": "2023-02-03T17:36:10.882Z"
   },
   {
    "duration": 5,
    "start_time": "2023-02-03T17:36:10.889Z"
   },
   {
    "duration": 5,
    "start_time": "2023-02-03T17:36:10.895Z"
   },
   {
    "duration": 8,
    "start_time": "2023-02-03T17:36:10.902Z"
   },
   {
    "duration": 6,
    "start_time": "2023-02-03T17:36:10.912Z"
   },
   {
    "duration": 5,
    "start_time": "2023-02-03T17:36:10.919Z"
   },
   {
    "duration": 6,
    "start_time": "2023-02-03T17:36:10.926Z"
   },
   {
    "duration": 6,
    "start_time": "2023-02-03T17:36:10.933Z"
   },
   {
    "duration": 78,
    "start_time": "2023-02-03T17:36:10.941Z"
   },
   {
    "duration": 0,
    "start_time": "2023-02-03T17:36:11.021Z"
   },
   {
    "duration": 0,
    "start_time": "2023-02-03T17:36:11.024Z"
   },
   {
    "duration": 0,
    "start_time": "2023-02-03T17:36:11.026Z"
   },
   {
    "duration": 0,
    "start_time": "2023-02-03T17:36:11.028Z"
   },
   {
    "duration": 0,
    "start_time": "2023-02-03T17:36:11.030Z"
   },
   {
    "duration": 0,
    "start_time": "2023-02-03T17:36:11.031Z"
   },
   {
    "duration": 0,
    "start_time": "2023-02-03T17:36:11.032Z"
   },
   {
    "duration": 0,
    "start_time": "2023-02-03T17:36:11.034Z"
   },
   {
    "duration": 896,
    "start_time": "2023-02-03T17:36:49.148Z"
   },
   {
    "duration": 874,
    "start_time": "2023-02-03T17:37:30.840Z"
   },
   {
    "duration": 897,
    "start_time": "2023-02-03T17:37:38.159Z"
   },
   {
    "duration": 3,
    "start_time": "2023-02-03T17:37:53.568Z"
   },
   {
    "duration": 201,
    "start_time": "2023-02-03T17:37:53.573Z"
   },
   {
    "duration": 13,
    "start_time": "2023-02-03T17:37:53.777Z"
   },
   {
    "duration": 48,
    "start_time": "2023-02-03T17:37:53.791Z"
   },
   {
    "duration": 12,
    "start_time": "2023-02-03T17:37:53.841Z"
   },
   {
    "duration": 36,
    "start_time": "2023-02-03T17:37:53.854Z"
   },
   {
    "duration": 44,
    "start_time": "2023-02-03T17:37:53.892Z"
   },
   {
    "duration": 24,
    "start_time": "2023-02-03T17:37:53.937Z"
   },
   {
    "duration": 52,
    "start_time": "2023-02-03T17:37:53.963Z"
   },
   {
    "duration": 42,
    "start_time": "2023-02-03T17:37:54.017Z"
   },
   {
    "duration": 34,
    "start_time": "2023-02-03T17:37:54.061Z"
   },
   {
    "duration": 97,
    "start_time": "2023-02-03T17:37:54.097Z"
   },
   {
    "duration": 59,
    "start_time": "2023-02-03T17:37:54.197Z"
   },
   {
    "duration": 53,
    "start_time": "2023-02-03T17:37:54.268Z"
   },
   {
    "duration": 52,
    "start_time": "2023-02-03T17:37:54.323Z"
   },
   {
    "duration": 29,
    "start_time": "2023-02-03T17:37:54.377Z"
   },
   {
    "duration": 0,
    "start_time": "2023-02-03T17:37:54.408Z"
   },
   {
    "duration": 0,
    "start_time": "2023-02-03T17:37:54.409Z"
   },
   {
    "duration": 0,
    "start_time": "2023-02-03T17:37:54.410Z"
   },
   {
    "duration": 0,
    "start_time": "2023-02-03T17:37:54.412Z"
   },
   {
    "duration": 0,
    "start_time": "2023-02-03T17:37:54.413Z"
   },
   {
    "duration": 0,
    "start_time": "2023-02-03T17:37:54.415Z"
   },
   {
    "duration": 0,
    "start_time": "2023-02-03T17:37:54.416Z"
   },
   {
    "duration": 0,
    "start_time": "2023-02-03T17:37:54.418Z"
   },
   {
    "duration": 0,
    "start_time": "2023-02-03T17:37:54.420Z"
   },
   {
    "duration": 0,
    "start_time": "2023-02-03T17:37:54.422Z"
   },
   {
    "duration": 0,
    "start_time": "2023-02-03T17:37:54.424Z"
   },
   {
    "duration": 0,
    "start_time": "2023-02-03T17:37:54.424Z"
   },
   {
    "duration": 0,
    "start_time": "2023-02-03T17:37:54.425Z"
   },
   {
    "duration": 0,
    "start_time": "2023-02-03T17:37:54.467Z"
   },
   {
    "duration": 0,
    "start_time": "2023-02-03T17:37:54.468Z"
   },
   {
    "duration": 0,
    "start_time": "2023-02-03T17:37:54.469Z"
   },
   {
    "duration": 0,
    "start_time": "2023-02-03T17:37:54.470Z"
   },
   {
    "duration": 0,
    "start_time": "2023-02-03T17:37:54.471Z"
   },
   {
    "duration": 0,
    "start_time": "2023-02-03T17:37:54.472Z"
   },
   {
    "duration": 0,
    "start_time": "2023-02-03T17:37:54.474Z"
   },
   {
    "duration": 0,
    "start_time": "2023-02-03T17:37:54.475Z"
   },
   {
    "duration": 0,
    "start_time": "2023-02-03T17:37:54.476Z"
   },
   {
    "duration": 4,
    "start_time": "2023-02-03T17:39:06.477Z"
   },
   {
    "duration": 10,
    "start_time": "2023-02-03T17:39:18.587Z"
   },
   {
    "duration": 384,
    "start_time": "2023-02-03T17:39:32.983Z"
   },
   {
    "duration": 175,
    "start_time": "2023-02-03T17:39:33.369Z"
   },
   {
    "duration": 27,
    "start_time": "2023-02-03T17:39:33.546Z"
   },
   {
    "duration": 32,
    "start_time": "2023-02-03T17:39:33.575Z"
   },
   {
    "duration": 2,
    "start_time": "2023-02-03T17:39:33.610Z"
   },
   {
    "duration": 18,
    "start_time": "2023-02-03T17:39:33.614Z"
   },
   {
    "duration": 12,
    "start_time": "2023-02-03T17:39:33.634Z"
   },
   {
    "duration": 20,
    "start_time": "2023-02-03T17:39:33.648Z"
   },
   {
    "duration": 26,
    "start_time": "2023-02-03T17:39:33.670Z"
   },
   {
    "duration": 20,
    "start_time": "2023-02-03T17:39:33.699Z"
   },
   {
    "duration": 50,
    "start_time": "2023-02-03T17:39:33.720Z"
   },
   {
    "duration": 67,
    "start_time": "2023-02-03T17:39:33.772Z"
   },
   {
    "duration": 94,
    "start_time": "2023-02-03T17:39:33.842Z"
   },
   {
    "duration": 81,
    "start_time": "2023-02-03T17:39:33.940Z"
   },
   {
    "duration": 46,
    "start_time": "2023-02-03T17:39:34.022Z"
   },
   {
    "duration": 3,
    "start_time": "2023-02-03T17:39:34.069Z"
   },
   {
    "duration": 5,
    "start_time": "2023-02-03T17:39:34.073Z"
   },
   {
    "duration": 5,
    "start_time": "2023-02-03T17:39:34.079Z"
   },
   {
    "duration": 4,
    "start_time": "2023-02-03T17:39:34.085Z"
   },
   {
    "duration": 8,
    "start_time": "2023-02-03T17:39:34.091Z"
   },
   {
    "duration": 8,
    "start_time": "2023-02-03T17:39:34.101Z"
   },
   {
    "duration": 5,
    "start_time": "2023-02-03T17:39:34.110Z"
   },
   {
    "duration": 5,
    "start_time": "2023-02-03T17:39:34.116Z"
   },
   {
    "duration": 4,
    "start_time": "2023-02-03T17:39:34.122Z"
   },
   {
    "duration": 6,
    "start_time": "2023-02-03T17:39:34.127Z"
   },
   {
    "duration": 5,
    "start_time": "2023-02-03T17:39:34.135Z"
   },
   {
    "duration": 4,
    "start_time": "2023-02-03T17:39:34.141Z"
   },
   {
    "duration": 21,
    "start_time": "2023-02-03T17:39:34.146Z"
   },
   {
    "duration": 2,
    "start_time": "2023-02-03T17:39:34.168Z"
   },
   {
    "duration": 75,
    "start_time": "2023-02-03T17:39:34.172Z"
   },
   {
    "duration": 0,
    "start_time": "2023-02-03T17:39:34.248Z"
   },
   {
    "duration": 0,
    "start_time": "2023-02-03T17:39:34.249Z"
   },
   {
    "duration": 0,
    "start_time": "2023-02-03T17:39:34.251Z"
   },
   {
    "duration": 0,
    "start_time": "2023-02-03T17:39:34.252Z"
   },
   {
    "duration": 0,
    "start_time": "2023-02-03T17:39:34.253Z"
   },
   {
    "duration": 0,
    "start_time": "2023-02-03T17:39:34.254Z"
   },
   {
    "duration": 0,
    "start_time": "2023-02-03T17:39:34.255Z"
   },
   {
    "duration": 0,
    "start_time": "2023-02-03T17:39:34.256Z"
   },
   {
    "duration": 9,
    "start_time": "2023-02-03T17:41:38.016Z"
   },
   {
    "duration": 39,
    "start_time": "2023-02-03T17:42:33.407Z"
   },
   {
    "duration": 46,
    "start_time": "2023-02-06T05:23:26.351Z"
   },
   {
    "duration": 5,
    "start_time": "2023-02-06T05:23:36.925Z"
   },
   {
    "duration": 6,
    "start_time": "2023-02-06T05:24:15.011Z"
   },
   {
    "duration": 363,
    "start_time": "2023-02-06T05:24:23.465Z"
   },
   {
    "duration": 454,
    "start_time": "2023-02-06T05:24:23.830Z"
   },
   {
    "duration": 15,
    "start_time": "2023-02-06T05:24:24.286Z"
   },
   {
    "duration": 27,
    "start_time": "2023-02-06T05:24:24.303Z"
   },
   {
    "duration": 2,
    "start_time": "2023-02-06T05:24:24.331Z"
   },
   {
    "duration": 14,
    "start_time": "2023-02-06T05:24:24.334Z"
   },
   {
    "duration": 14,
    "start_time": "2023-02-06T05:24:24.350Z"
   },
   {
    "duration": 6,
    "start_time": "2023-02-06T05:24:24.366Z"
   },
   {
    "duration": 25,
    "start_time": "2023-02-06T05:24:24.374Z"
   },
   {
    "duration": 18,
    "start_time": "2023-02-06T05:24:24.401Z"
   },
   {
    "duration": 34,
    "start_time": "2023-02-06T05:24:24.421Z"
   },
   {
    "duration": 68,
    "start_time": "2023-02-06T05:24:24.456Z"
   },
   {
    "duration": 78,
    "start_time": "2023-02-06T05:24:24.525Z"
   },
   {
    "duration": 73,
    "start_time": "2023-02-06T05:24:24.605Z"
   },
   {
    "duration": 48,
    "start_time": "2023-02-06T05:24:24.679Z"
   },
   {
    "duration": 23,
    "start_time": "2023-02-06T05:24:24.728Z"
   },
   {
    "duration": 37,
    "start_time": "2023-02-06T05:24:24.753Z"
   },
   {
    "duration": 10,
    "start_time": "2023-02-06T05:24:24.792Z"
   },
   {
    "duration": 9,
    "start_time": "2023-02-06T05:24:24.804Z"
   },
   {
    "duration": 6,
    "start_time": "2023-02-06T05:24:24.814Z"
   },
   {
    "duration": 7,
    "start_time": "2023-02-06T05:24:24.821Z"
   },
   {
    "duration": 15,
    "start_time": "2023-02-06T05:24:24.829Z"
   },
   {
    "duration": 6,
    "start_time": "2023-02-06T05:24:24.845Z"
   },
   {
    "duration": 9,
    "start_time": "2023-02-06T05:24:24.852Z"
   },
   {
    "duration": 9,
    "start_time": "2023-02-06T05:24:24.862Z"
   },
   {
    "duration": 6,
    "start_time": "2023-02-06T05:24:24.872Z"
   },
   {
    "duration": 14,
    "start_time": "2023-02-06T05:24:24.880Z"
   },
   {
    "duration": 5,
    "start_time": "2023-02-06T05:24:24.897Z"
   },
   {
    "duration": 5,
    "start_time": "2023-02-06T05:24:24.903Z"
   },
   {
    "duration": 74,
    "start_time": "2023-02-06T05:24:24.910Z"
   },
   {
    "duration": 0,
    "start_time": "2023-02-06T05:24:24.986Z"
   },
   {
    "duration": 0,
    "start_time": "2023-02-06T05:24:24.987Z"
   },
   {
    "duration": 0,
    "start_time": "2023-02-06T05:24:24.988Z"
   },
   {
    "duration": 0,
    "start_time": "2023-02-06T05:24:24.989Z"
   },
   {
    "duration": 0,
    "start_time": "2023-02-06T05:24:24.990Z"
   },
   {
    "duration": 0,
    "start_time": "2023-02-06T05:24:24.991Z"
   },
   {
    "duration": 0,
    "start_time": "2023-02-06T05:24:24.992Z"
   },
   {
    "duration": 0,
    "start_time": "2023-02-06T05:24:24.993Z"
   },
   {
    "duration": 10,
    "start_time": "2023-02-06T05:25:53.282Z"
   },
   {
    "duration": 12,
    "start_time": "2023-02-06T05:26:01.624Z"
   },
   {
    "duration": 12,
    "start_time": "2023-02-06T05:26:20.487Z"
   },
   {
    "duration": 13,
    "start_time": "2023-02-06T05:27:04.936Z"
   },
   {
    "duration": 28,
    "start_time": "2023-02-06T05:27:51.958Z"
   },
   {
    "duration": 13,
    "start_time": "2023-02-06T05:28:03.182Z"
   },
   {
    "duration": 3,
    "start_time": "2023-02-06T05:34:32.421Z"
   },
   {
    "duration": 20,
    "start_time": "2023-02-06T05:36:24.732Z"
   },
   {
    "duration": 15,
    "start_time": "2023-02-06T05:38:02.419Z"
   },
   {
    "duration": 4,
    "start_time": "2023-02-06T05:38:15.820Z"
   },
   {
    "duration": 4,
    "start_time": "2023-02-06T05:38:18.243Z"
   },
   {
    "duration": 14,
    "start_time": "2023-02-06T05:38:29.956Z"
   },
   {
    "duration": 12,
    "start_time": "2023-02-06T05:40:13.078Z"
   },
   {
    "duration": 14,
    "start_time": "2023-02-06T05:41:20.634Z"
   },
   {
    "duration": 69,
    "start_time": "2023-02-06T05:41:53.910Z"
   },
   {
    "duration": 3,
    "start_time": "2023-02-06T05:42:06.420Z"
   },
   {
    "duration": 186,
    "start_time": "2023-02-06T05:42:06.424Z"
   },
   {
    "duration": 17,
    "start_time": "2023-02-06T05:42:06.612Z"
   },
   {
    "duration": 70,
    "start_time": "2023-02-06T05:42:06.631Z"
   },
   {
    "duration": 5,
    "start_time": "2023-02-06T05:42:06.704Z"
   },
   {
    "duration": 24,
    "start_time": "2023-02-06T05:42:06.712Z"
   },
   {
    "duration": 28,
    "start_time": "2023-02-06T05:42:06.737Z"
   },
   {
    "duration": 27,
    "start_time": "2023-02-06T05:42:06.767Z"
   },
   {
    "duration": 65,
    "start_time": "2023-02-06T05:42:06.797Z"
   },
   {
    "duration": 43,
    "start_time": "2023-02-06T05:42:06.864Z"
   },
   {
    "duration": 41,
    "start_time": "2023-02-06T05:42:06.911Z"
   },
   {
    "duration": 77,
    "start_time": "2023-02-06T05:42:06.954Z"
   },
   {
    "duration": 61,
    "start_time": "2023-02-06T05:42:07.033Z"
   },
   {
    "duration": 67,
    "start_time": "2023-02-06T05:42:07.095Z"
   },
   {
    "duration": 39,
    "start_time": "2023-02-06T05:42:07.165Z"
   },
   {
    "duration": 17,
    "start_time": "2023-02-06T05:42:07.206Z"
   },
   {
    "duration": 90,
    "start_time": "2023-02-06T05:42:07.225Z"
   },
   {
    "duration": 13,
    "start_time": "2023-02-06T05:42:07.317Z"
   },
   {
    "duration": 21,
    "start_time": "2023-02-06T05:42:07.345Z"
   },
   {
    "duration": 81,
    "start_time": "2023-02-06T05:42:07.369Z"
   },
   {
    "duration": 0,
    "start_time": "2023-02-06T05:42:07.452Z"
   },
   {
    "duration": 0,
    "start_time": "2023-02-06T05:42:07.453Z"
   },
   {
    "duration": 0,
    "start_time": "2023-02-06T05:42:07.455Z"
   },
   {
    "duration": 0,
    "start_time": "2023-02-06T05:42:07.456Z"
   },
   {
    "duration": 0,
    "start_time": "2023-02-06T05:42:07.457Z"
   },
   {
    "duration": 0,
    "start_time": "2023-02-06T05:42:07.459Z"
   },
   {
    "duration": 0,
    "start_time": "2023-02-06T05:42:07.460Z"
   },
   {
    "duration": 0,
    "start_time": "2023-02-06T05:42:07.461Z"
   },
   {
    "duration": 0,
    "start_time": "2023-02-06T05:42:07.463Z"
   },
   {
    "duration": 0,
    "start_time": "2023-02-06T05:42:07.464Z"
   },
   {
    "duration": 0,
    "start_time": "2023-02-06T05:42:07.466Z"
   },
   {
    "duration": 0,
    "start_time": "2023-02-06T05:42:07.467Z"
   },
   {
    "duration": 0,
    "start_time": "2023-02-06T05:42:07.468Z"
   },
   {
    "duration": 0,
    "start_time": "2023-02-06T05:42:07.470Z"
   },
   {
    "duration": 0,
    "start_time": "2023-02-06T05:42:07.471Z"
   },
   {
    "duration": 0,
    "start_time": "2023-02-06T05:42:07.473Z"
   },
   {
    "duration": 0,
    "start_time": "2023-02-06T05:42:07.474Z"
   },
   {
    "duration": 0,
    "start_time": "2023-02-06T05:42:07.476Z"
   },
   {
    "duration": 72,
    "start_time": "2023-02-06T05:42:25.822Z"
   },
   {
    "duration": 3,
    "start_time": "2023-02-06T05:42:39.648Z"
   },
   {
    "duration": 158,
    "start_time": "2023-02-06T05:42:39.654Z"
   },
   {
    "duration": 9,
    "start_time": "2023-02-06T05:42:39.814Z"
   },
   {
    "duration": 41,
    "start_time": "2023-02-06T05:42:39.824Z"
   },
   {
    "duration": 7,
    "start_time": "2023-02-06T05:42:39.867Z"
   },
   {
    "duration": 12,
    "start_time": "2023-02-06T05:42:39.876Z"
   },
   {
    "duration": 10,
    "start_time": "2023-02-06T05:42:39.889Z"
   },
   {
    "duration": 8,
    "start_time": "2023-02-06T05:42:39.900Z"
   },
   {
    "duration": 28,
    "start_time": "2023-02-06T05:42:39.910Z"
   },
   {
    "duration": 17,
    "start_time": "2023-02-06T05:42:39.944Z"
   },
   {
    "duration": 24,
    "start_time": "2023-02-06T05:42:39.962Z"
   },
   {
    "duration": 77,
    "start_time": "2023-02-06T05:42:39.988Z"
   },
   {
    "duration": 59,
    "start_time": "2023-02-06T05:42:40.067Z"
   },
   {
    "duration": 68,
    "start_time": "2023-02-06T05:42:40.128Z"
   },
   {
    "duration": 44,
    "start_time": "2023-02-06T05:42:40.199Z"
   },
   {
    "duration": 10,
    "start_time": "2023-02-06T05:42:40.245Z"
   },
   {
    "duration": 52,
    "start_time": "2023-02-06T05:42:40.258Z"
   },
   {
    "duration": 12,
    "start_time": "2023-02-06T05:42:40.311Z"
   },
   {
    "duration": 21,
    "start_time": "2023-02-06T05:42:40.324Z"
   },
   {
    "duration": 72,
    "start_time": "2023-02-06T05:42:40.347Z"
   },
   {
    "duration": 0,
    "start_time": "2023-02-06T05:42:40.421Z"
   },
   {
    "duration": 0,
    "start_time": "2023-02-06T05:42:40.423Z"
   },
   {
    "duration": 0,
    "start_time": "2023-02-06T05:42:40.424Z"
   },
   {
    "duration": 0,
    "start_time": "2023-02-06T05:42:40.426Z"
   },
   {
    "duration": 0,
    "start_time": "2023-02-06T05:42:40.427Z"
   },
   {
    "duration": 0,
    "start_time": "2023-02-06T05:42:40.429Z"
   },
   {
    "duration": 0,
    "start_time": "2023-02-06T05:42:40.431Z"
   },
   {
    "duration": 0,
    "start_time": "2023-02-06T05:42:40.432Z"
   },
   {
    "duration": 0,
    "start_time": "2023-02-06T05:42:40.433Z"
   },
   {
    "duration": 0,
    "start_time": "2023-02-06T05:42:40.435Z"
   },
   {
    "duration": 0,
    "start_time": "2023-02-06T05:42:40.436Z"
   },
   {
    "duration": 0,
    "start_time": "2023-02-06T05:42:40.437Z"
   },
   {
    "duration": 0,
    "start_time": "2023-02-06T05:42:40.439Z"
   },
   {
    "duration": 0,
    "start_time": "2023-02-06T05:42:40.440Z"
   },
   {
    "duration": 0,
    "start_time": "2023-02-06T05:42:40.442Z"
   },
   {
    "duration": 0,
    "start_time": "2023-02-06T05:42:40.443Z"
   },
   {
    "duration": 0,
    "start_time": "2023-02-06T05:42:40.445Z"
   },
   {
    "duration": 0,
    "start_time": "2023-02-06T05:42:40.446Z"
   },
   {
    "duration": 84,
    "start_time": "2023-02-06T05:42:57.243Z"
   },
   {
    "duration": 2,
    "start_time": "2023-02-06T05:43:04.058Z"
   },
   {
    "duration": 182,
    "start_time": "2023-02-06T05:43:04.064Z"
   },
   {
    "duration": 11,
    "start_time": "2023-02-06T05:43:04.248Z"
   },
   {
    "duration": 37,
    "start_time": "2023-02-06T05:43:04.261Z"
   },
   {
    "duration": 2,
    "start_time": "2023-02-06T05:43:04.301Z"
   },
   {
    "duration": 53,
    "start_time": "2023-02-06T05:43:04.305Z"
   },
   {
    "duration": 26,
    "start_time": "2023-02-06T05:43:04.360Z"
   },
   {
    "duration": 10,
    "start_time": "2023-02-06T05:43:04.388Z"
   },
   {
    "duration": 44,
    "start_time": "2023-02-06T05:43:04.400Z"
   },
   {
    "duration": 20,
    "start_time": "2023-02-06T05:43:04.446Z"
   },
   {
    "duration": 28,
    "start_time": "2023-02-06T05:43:04.471Z"
   },
   {
    "duration": 79,
    "start_time": "2023-02-06T05:43:04.501Z"
   },
   {
    "duration": 93,
    "start_time": "2023-02-06T05:43:04.582Z"
   },
   {
    "duration": 82,
    "start_time": "2023-02-06T05:43:04.679Z"
   },
   {
    "duration": 49,
    "start_time": "2023-02-06T05:43:04.764Z"
   },
   {
    "duration": 29,
    "start_time": "2023-02-06T05:43:04.815Z"
   },
   {
    "duration": 54,
    "start_time": "2023-02-06T05:43:04.847Z"
   },
   {
    "duration": 14,
    "start_time": "2023-02-06T05:43:04.904Z"
   },
   {
    "duration": 29,
    "start_time": "2023-02-06T05:43:04.920Z"
   },
   {
    "duration": 106,
    "start_time": "2023-02-06T05:43:04.951Z"
   },
   {
    "duration": 0,
    "start_time": "2023-02-06T05:43:05.059Z"
   },
   {
    "duration": 0,
    "start_time": "2023-02-06T05:43:05.061Z"
   },
   {
    "duration": 0,
    "start_time": "2023-02-06T05:43:05.062Z"
   },
   {
    "duration": 0,
    "start_time": "2023-02-06T05:43:05.064Z"
   },
   {
    "duration": 0,
    "start_time": "2023-02-06T05:43:05.065Z"
   },
   {
    "duration": 0,
    "start_time": "2023-02-06T05:43:05.066Z"
   },
   {
    "duration": 0,
    "start_time": "2023-02-06T05:43:05.068Z"
   },
   {
    "duration": 0,
    "start_time": "2023-02-06T05:43:05.070Z"
   },
   {
    "duration": 0,
    "start_time": "2023-02-06T05:43:05.072Z"
   },
   {
    "duration": 0,
    "start_time": "2023-02-06T05:43:05.074Z"
   },
   {
    "duration": 1,
    "start_time": "2023-02-06T05:43:05.075Z"
   },
   {
    "duration": 0,
    "start_time": "2023-02-06T05:43:05.078Z"
   },
   {
    "duration": 0,
    "start_time": "2023-02-06T05:43:05.079Z"
   },
   {
    "duration": 0,
    "start_time": "2023-02-06T05:43:05.080Z"
   },
   {
    "duration": 0,
    "start_time": "2023-02-06T05:43:05.082Z"
   },
   {
    "duration": 0,
    "start_time": "2023-02-06T05:43:05.083Z"
   },
   {
    "duration": 0,
    "start_time": "2023-02-06T05:43:05.085Z"
   },
   {
    "duration": 0,
    "start_time": "2023-02-06T05:43:05.086Z"
   },
   {
    "duration": 116,
    "start_time": "2023-02-06T05:45:21.018Z"
   },
   {
    "duration": 2,
    "start_time": "2023-02-06T05:45:28.194Z"
   },
   {
    "duration": 161,
    "start_time": "2023-02-06T05:45:28.198Z"
   },
   {
    "duration": 10,
    "start_time": "2023-02-06T05:45:28.360Z"
   },
   {
    "duration": 29,
    "start_time": "2023-02-06T05:45:28.372Z"
   },
   {
    "duration": 2,
    "start_time": "2023-02-06T05:45:28.403Z"
   },
   {
    "duration": 10,
    "start_time": "2023-02-06T05:45:28.407Z"
   },
   {
    "duration": 29,
    "start_time": "2023-02-06T05:45:28.418Z"
   },
   {
    "duration": 4,
    "start_time": "2023-02-06T05:45:28.449Z"
   },
   {
    "duration": 27,
    "start_time": "2023-02-06T05:45:28.455Z"
   },
   {
    "duration": 16,
    "start_time": "2023-02-06T05:45:28.483Z"
   },
   {
    "duration": 25,
    "start_time": "2023-02-06T05:45:28.501Z"
   },
   {
    "duration": 59,
    "start_time": "2023-02-06T05:45:28.544Z"
   },
   {
    "duration": 82,
    "start_time": "2023-02-06T05:45:28.605Z"
   },
   {
    "duration": 56,
    "start_time": "2023-02-06T05:45:28.689Z"
   },
   {
    "duration": 38,
    "start_time": "2023-02-06T05:45:28.747Z"
   },
   {
    "duration": 10,
    "start_time": "2023-02-06T05:45:28.787Z"
   },
   {
    "duration": 66,
    "start_time": "2023-02-06T05:45:28.799Z"
   },
   {
    "duration": 11,
    "start_time": "2023-02-06T05:45:28.867Z"
   },
   {
    "duration": 12,
    "start_time": "2023-02-06T05:45:28.880Z"
   },
   {
    "duration": 69,
    "start_time": "2023-02-06T05:45:28.893Z"
   },
   {
    "duration": 0,
    "start_time": "2023-02-06T05:45:28.965Z"
   },
   {
    "duration": 0,
    "start_time": "2023-02-06T05:45:28.966Z"
   },
   {
    "duration": 0,
    "start_time": "2023-02-06T05:45:28.967Z"
   },
   {
    "duration": 0,
    "start_time": "2023-02-06T05:45:28.968Z"
   },
   {
    "duration": 0,
    "start_time": "2023-02-06T05:45:28.970Z"
   },
   {
    "duration": 0,
    "start_time": "2023-02-06T05:45:28.971Z"
   },
   {
    "duration": 0,
    "start_time": "2023-02-06T05:45:28.972Z"
   },
   {
    "duration": 0,
    "start_time": "2023-02-06T05:45:28.973Z"
   },
   {
    "duration": 0,
    "start_time": "2023-02-06T05:45:28.974Z"
   },
   {
    "duration": 0,
    "start_time": "2023-02-06T05:45:28.975Z"
   },
   {
    "duration": 0,
    "start_time": "2023-02-06T05:45:28.976Z"
   },
   {
    "duration": 0,
    "start_time": "2023-02-06T05:45:28.977Z"
   },
   {
    "duration": 0,
    "start_time": "2023-02-06T05:45:28.978Z"
   },
   {
    "duration": 0,
    "start_time": "2023-02-06T05:45:28.979Z"
   },
   {
    "duration": 0,
    "start_time": "2023-02-06T05:45:28.981Z"
   },
   {
    "duration": 0,
    "start_time": "2023-02-06T05:45:28.982Z"
   },
   {
    "duration": 0,
    "start_time": "2023-02-06T05:45:28.982Z"
   },
   {
    "duration": 0,
    "start_time": "2023-02-06T05:45:28.984Z"
   },
   {
    "duration": 9,
    "start_time": "2023-02-06T05:45:38.310Z"
   },
   {
    "duration": 20,
    "start_time": "2023-02-06T05:45:45.184Z"
   },
   {
    "duration": 560,
    "start_time": "2023-02-06T05:46:19.748Z"
   },
   {
    "duration": 22,
    "start_time": "2023-02-06T05:46:33.986Z"
   },
   {
    "duration": 3,
    "start_time": "2023-02-06T05:47:35.886Z"
   },
   {
    "duration": 12,
    "start_time": "2023-02-06T05:49:55.500Z"
   },
   {
    "duration": 22,
    "start_time": "2023-02-06T05:50:07.873Z"
   },
   {
    "duration": 28,
    "start_time": "2023-02-06T05:50:19.002Z"
   },
   {
    "duration": 23,
    "start_time": "2023-02-06T05:51:31.863Z"
   },
   {
    "duration": 4,
    "start_time": "2023-02-06T05:52:05.889Z"
   },
   {
    "duration": 21,
    "start_time": "2023-02-06T05:52:08.026Z"
   },
   {
    "duration": 22,
    "start_time": "2023-02-06T05:52:42.666Z"
   },
   {
    "duration": 15,
    "start_time": "2023-02-06T05:53:33.022Z"
   },
   {
    "duration": 16,
    "start_time": "2023-02-06T05:53:34.011Z"
   },
   {
    "duration": 27,
    "start_time": "2023-02-06T05:53:34.635Z"
   },
   {
    "duration": 23,
    "start_time": "2023-02-06T05:53:35.116Z"
   },
   {
    "duration": 14,
    "start_time": "2023-02-06T05:57:39.791Z"
   },
   {
    "duration": 15,
    "start_time": "2023-02-06T06:08:56.704Z"
   },
   {
    "duration": 87,
    "start_time": "2023-02-06T06:10:09.602Z"
   },
   {
    "duration": 19,
    "start_time": "2023-02-06T06:10:18.561Z"
   },
   {
    "duration": 39,
    "start_time": "2023-02-06T06:10:42.198Z"
   },
   {
    "duration": 7,
    "start_time": "2023-02-06T06:13:40.494Z"
   },
   {
    "duration": 3,
    "start_time": "2023-02-06T06:13:59.147Z"
   },
   {
    "duration": 164,
    "start_time": "2023-02-06T06:13:59.152Z"
   },
   {
    "duration": 10,
    "start_time": "2023-02-06T06:13:59.318Z"
   },
   {
    "duration": 40,
    "start_time": "2023-02-06T06:13:59.330Z"
   },
   {
    "duration": 3,
    "start_time": "2023-02-06T06:13:59.373Z"
   },
   {
    "duration": 14,
    "start_time": "2023-02-06T06:13:59.378Z"
   },
   {
    "duration": 20,
    "start_time": "2023-02-06T06:13:59.394Z"
   },
   {
    "duration": 17,
    "start_time": "2023-02-06T06:13:59.416Z"
   },
   {
    "duration": 32,
    "start_time": "2023-02-06T06:13:59.434Z"
   },
   {
    "duration": 20,
    "start_time": "2023-02-06T06:13:59.468Z"
   },
   {
    "duration": 25,
    "start_time": "2023-02-06T06:13:59.491Z"
   },
   {
    "duration": 69,
    "start_time": "2023-02-06T06:13:59.518Z"
   },
   {
    "duration": 74,
    "start_time": "2023-02-06T06:13:59.589Z"
   },
   {
    "duration": 49,
    "start_time": "2023-02-06T06:13:59.664Z"
   },
   {
    "duration": 49,
    "start_time": "2023-02-06T06:13:59.715Z"
   },
   {
    "duration": 10,
    "start_time": "2023-02-06T06:13:59.766Z"
   },
   {
    "duration": 42,
    "start_time": "2023-02-06T06:13:59.777Z"
   },
   {
    "duration": 29,
    "start_time": "2023-02-06T06:13:59.821Z"
   },
   {
    "duration": 13,
    "start_time": "2023-02-06T06:13:59.852Z"
   },
   {
    "duration": 4,
    "start_time": "2023-02-06T06:13:59.868Z"
   },
   {
    "duration": 35,
    "start_time": "2023-02-06T06:13:59.874Z"
   },
   {
    "duration": 16,
    "start_time": "2023-02-06T06:13:59.911Z"
   },
   {
    "duration": 40,
    "start_time": "2023-02-06T06:13:59.929Z"
   },
   {
    "duration": 32,
    "start_time": "2023-02-06T06:13:59.971Z"
   },
   {
    "duration": 26,
    "start_time": "2023-02-06T06:14:00.005Z"
   },
   {
    "duration": 20,
    "start_time": "2023-02-06T06:14:00.032Z"
   },
   {
    "duration": 20,
    "start_time": "2023-02-06T06:14:00.053Z"
   },
   {
    "duration": 0,
    "start_time": "2023-02-06T06:14:00.074Z"
   },
   {
    "duration": 0,
    "start_time": "2023-02-06T06:14:00.076Z"
   },
   {
    "duration": 0,
    "start_time": "2023-02-06T06:14:00.078Z"
   },
   {
    "duration": 0,
    "start_time": "2023-02-06T06:14:00.079Z"
   },
   {
    "duration": 0,
    "start_time": "2023-02-06T06:14:00.080Z"
   },
   {
    "duration": 0,
    "start_time": "2023-02-06T06:14:00.081Z"
   },
   {
    "duration": 0,
    "start_time": "2023-02-06T06:14:00.082Z"
   },
   {
    "duration": 0,
    "start_time": "2023-02-06T06:14:00.083Z"
   },
   {
    "duration": 0,
    "start_time": "2023-02-06T06:14:00.084Z"
   },
   {
    "duration": 0,
    "start_time": "2023-02-06T06:14:00.085Z"
   },
   {
    "duration": 0,
    "start_time": "2023-02-06T06:14:00.086Z"
   },
   {
    "duration": 69,
    "start_time": "2023-02-06T06:14:14.037Z"
   },
   {
    "duration": 67,
    "start_time": "2023-02-06T06:14:20.311Z"
   },
   {
    "duration": 9,
    "start_time": "2023-02-06T08:14:23.713Z"
   },
   {
    "duration": 5,
    "start_time": "2023-02-06T08:20:24.002Z"
   },
   {
    "duration": 8,
    "start_time": "2023-02-06T08:21:13.216Z"
   },
   {
    "duration": 2,
    "start_time": "2023-02-06T08:21:28.005Z"
   },
   {
    "duration": 169,
    "start_time": "2023-02-06T08:21:28.009Z"
   },
   {
    "duration": 10,
    "start_time": "2023-02-06T08:21:28.179Z"
   },
   {
    "duration": 33,
    "start_time": "2023-02-06T08:21:28.191Z"
   },
   {
    "duration": 3,
    "start_time": "2023-02-06T08:21:28.226Z"
   },
   {
    "duration": 4,
    "start_time": "2023-02-06T08:21:28.245Z"
   },
   {
    "duration": 10,
    "start_time": "2023-02-06T08:21:28.251Z"
   },
   {
    "duration": 13,
    "start_time": "2023-02-06T08:21:28.263Z"
   },
   {
    "duration": 30,
    "start_time": "2023-02-06T08:21:28.279Z"
   },
   {
    "duration": 44,
    "start_time": "2023-02-06T08:21:28.310Z"
   },
   {
    "duration": 28,
    "start_time": "2023-02-06T08:21:28.355Z"
   },
   {
    "duration": 70,
    "start_time": "2023-02-06T08:21:28.385Z"
   },
   {
    "duration": 60,
    "start_time": "2023-02-06T08:21:28.457Z"
   },
   {
    "duration": 64,
    "start_time": "2023-02-06T08:21:28.518Z"
   },
   {
    "duration": 36,
    "start_time": "2023-02-06T08:21:28.584Z"
   },
   {
    "duration": 26,
    "start_time": "2023-02-06T08:21:28.622Z"
   },
   {
    "duration": 63,
    "start_time": "2023-02-06T08:21:28.650Z"
   },
   {
    "duration": 30,
    "start_time": "2023-02-06T08:21:28.715Z"
   },
   {
    "duration": 17,
    "start_time": "2023-02-06T08:21:28.747Z"
   },
   {
    "duration": 10,
    "start_time": "2023-02-06T08:21:28.766Z"
   },
   {
    "duration": 23,
    "start_time": "2023-02-06T08:21:28.778Z"
   },
   {
    "duration": 12,
    "start_time": "2023-02-06T08:21:28.803Z"
   },
   {
    "duration": 34,
    "start_time": "2023-02-06T08:21:28.817Z"
   },
   {
    "duration": 16,
    "start_time": "2023-02-06T08:21:28.855Z"
   },
   {
    "duration": 27,
    "start_time": "2023-02-06T08:21:28.873Z"
   },
   {
    "duration": 15,
    "start_time": "2023-02-06T08:21:28.902Z"
   },
   {
    "duration": 95,
    "start_time": "2023-02-06T08:21:28.918Z"
   },
   {
    "duration": 10,
    "start_time": "2023-02-06T08:21:29.015Z"
   },
   {
    "duration": 23,
    "start_time": "2023-02-06T08:21:29.027Z"
   },
   {
    "duration": 13,
    "start_time": "2023-02-06T08:21:29.052Z"
   },
   {
    "duration": 20,
    "start_time": "2023-02-06T08:21:29.067Z"
   },
   {
    "duration": 4,
    "start_time": "2023-02-06T08:21:29.089Z"
   },
   {
    "duration": 16,
    "start_time": "2023-02-06T08:21:29.095Z"
   },
   {
    "duration": 21,
    "start_time": "2023-02-06T08:21:29.113Z"
   },
   {
    "duration": 10,
    "start_time": "2023-02-06T08:21:29.135Z"
   },
   {
    "duration": 21,
    "start_time": "2023-02-06T08:21:29.147Z"
   },
   {
    "duration": 16,
    "start_time": "2023-02-06T08:21:29.170Z"
   },
   {
    "duration": 13,
    "start_time": "2023-02-06T08:21:29.188Z"
   },
   {
    "duration": 11,
    "start_time": "2023-02-06T08:51:40.252Z"
   },
   {
    "duration": 14,
    "start_time": "2023-02-06T08:53:06.660Z"
   },
   {
    "duration": 16,
    "start_time": "2023-02-06T08:53:35.990Z"
   },
   {
    "duration": 15,
    "start_time": "2023-02-06T08:53:48.573Z"
   },
   {
    "duration": 12,
    "start_time": "2023-02-06T08:54:10.328Z"
   },
   {
    "duration": 17,
    "start_time": "2023-02-06T08:54:33.237Z"
   },
   {
    "duration": 13,
    "start_time": "2023-02-06T08:54:35.974Z"
   },
   {
    "duration": 8,
    "start_time": "2023-02-06T08:59:13.795Z"
   },
   {
    "duration": 3,
    "start_time": "2023-02-06T08:59:23.720Z"
   },
   {
    "duration": 9,
    "start_time": "2023-02-06T09:00:17.800Z"
   },
   {
    "duration": 2,
    "start_time": "2023-02-06T09:00:29.738Z"
   },
   {
    "duration": 202,
    "start_time": "2023-02-06T09:00:29.742Z"
   },
   {
    "duration": 11,
    "start_time": "2023-02-06T09:00:29.945Z"
   },
   {
    "duration": 32,
    "start_time": "2023-02-06T09:00:29.957Z"
   },
   {
    "duration": 4,
    "start_time": "2023-02-06T09:00:29.991Z"
   },
   {
    "duration": 10,
    "start_time": "2023-02-06T09:00:29.996Z"
   },
   {
    "duration": 27,
    "start_time": "2023-02-06T09:00:30.007Z"
   },
   {
    "duration": 23,
    "start_time": "2023-02-06T09:00:30.036Z"
   },
   {
    "duration": 46,
    "start_time": "2023-02-06T09:00:30.061Z"
   },
   {
    "duration": 40,
    "start_time": "2023-02-06T09:00:30.108Z"
   },
   {
    "duration": 50,
    "start_time": "2023-02-06T09:00:30.151Z"
   },
   {
    "duration": 91,
    "start_time": "2023-02-06T09:00:30.203Z"
   },
   {
    "duration": 66,
    "start_time": "2023-02-06T09:00:30.296Z"
   },
   {
    "duration": 58,
    "start_time": "2023-02-06T09:00:30.364Z"
   },
   {
    "duration": 56,
    "start_time": "2023-02-06T09:00:30.424Z"
   },
   {
    "duration": 12,
    "start_time": "2023-02-06T09:00:30.481Z"
   },
   {
    "duration": 61,
    "start_time": "2023-02-06T09:00:30.496Z"
   },
   {
    "duration": 14,
    "start_time": "2023-02-06T09:00:30.559Z"
   },
   {
    "duration": 46,
    "start_time": "2023-02-06T09:00:30.574Z"
   },
   {
    "duration": 35,
    "start_time": "2023-02-06T09:00:30.623Z"
   },
   {
    "duration": 58,
    "start_time": "2023-02-06T09:00:30.660Z"
   },
   {
    "duration": 41,
    "start_time": "2023-02-06T09:00:30.720Z"
   },
   {
    "duration": 77,
    "start_time": "2023-02-06T09:00:30.763Z"
   },
   {
    "duration": 36,
    "start_time": "2023-02-06T09:00:30.842Z"
   },
   {
    "duration": 111,
    "start_time": "2023-02-06T09:00:30.880Z"
   },
   {
    "duration": 53,
    "start_time": "2023-02-06T09:00:30.994Z"
   },
   {
    "duration": 132,
    "start_time": "2023-02-06T09:00:31.049Z"
   },
   {
    "duration": 11,
    "start_time": "2023-02-06T09:00:31.183Z"
   },
   {
    "duration": 29,
    "start_time": "2023-02-06T09:00:31.197Z"
   },
   {
    "duration": 28,
    "start_time": "2023-02-06T09:00:31.228Z"
   },
   {
    "duration": 64,
    "start_time": "2023-02-06T09:00:31.257Z"
   },
   {
    "duration": 50,
    "start_time": "2023-02-06T09:00:31.323Z"
   },
   {
    "duration": 29,
    "start_time": "2023-02-06T09:00:31.375Z"
   },
   {
    "duration": 18,
    "start_time": "2023-02-06T09:00:31.406Z"
   },
   {
    "duration": 25,
    "start_time": "2023-02-06T09:00:31.426Z"
   },
   {
    "duration": 3,
    "start_time": "2023-02-06T09:00:31.452Z"
   },
   {
    "duration": 8,
    "start_time": "2023-02-06T09:00:31.457Z"
   },
   {
    "duration": 14,
    "start_time": "2023-02-06T09:00:31.466Z"
   },
   {
    "duration": 12,
    "start_time": "2023-02-06T09:04:07.740Z"
   },
   {
    "duration": 2,
    "start_time": "2023-02-06T09:04:23.663Z"
   },
   {
    "duration": 163,
    "start_time": "2023-02-06T09:04:23.667Z"
   },
   {
    "duration": 13,
    "start_time": "2023-02-06T09:04:23.832Z"
   },
   {
    "duration": 31,
    "start_time": "2023-02-06T09:04:23.847Z"
   },
   {
    "duration": 3,
    "start_time": "2023-02-06T09:04:23.879Z"
   },
   {
    "duration": 8,
    "start_time": "2023-02-06T09:04:23.883Z"
   },
   {
    "duration": 13,
    "start_time": "2023-02-06T09:04:23.893Z"
   },
   {
    "duration": 11,
    "start_time": "2023-02-06T09:04:23.907Z"
   },
   {
    "duration": 34,
    "start_time": "2023-02-06T09:04:23.920Z"
   },
   {
    "duration": 16,
    "start_time": "2023-02-06T09:04:23.957Z"
   },
   {
    "duration": 25,
    "start_time": "2023-02-06T09:04:23.974Z"
   },
   {
    "duration": 73,
    "start_time": "2023-02-06T09:04:24.000Z"
   },
   {
    "duration": 59,
    "start_time": "2023-02-06T09:04:24.074Z"
   },
   {
    "duration": 51,
    "start_time": "2023-02-06T09:04:24.143Z"
   },
   {
    "duration": 49,
    "start_time": "2023-02-06T09:04:24.196Z"
   },
   {
    "duration": 10,
    "start_time": "2023-02-06T09:04:24.246Z"
   },
   {
    "duration": 38,
    "start_time": "2023-02-06T09:04:24.258Z"
   },
   {
    "duration": 11,
    "start_time": "2023-02-06T09:04:24.298Z"
   },
   {
    "duration": 35,
    "start_time": "2023-02-06T09:04:24.311Z"
   },
   {
    "duration": 3,
    "start_time": "2023-02-06T09:04:24.347Z"
   },
   {
    "duration": 23,
    "start_time": "2023-02-06T09:04:24.352Z"
   },
   {
    "duration": 13,
    "start_time": "2023-02-06T09:04:24.376Z"
   },
   {
    "duration": 13,
    "start_time": "2023-02-06T09:04:24.391Z"
   },
   {
    "duration": 13,
    "start_time": "2023-02-06T09:04:24.405Z"
   },
   {
    "duration": 35,
    "start_time": "2023-02-06T09:04:24.419Z"
   },
   {
    "duration": 12,
    "start_time": "2023-02-06T09:04:24.455Z"
   },
   {
    "duration": 76,
    "start_time": "2023-02-06T09:04:24.469Z"
   },
   {
    "duration": 10,
    "start_time": "2023-02-06T09:04:24.549Z"
   },
   {
    "duration": 8,
    "start_time": "2023-02-06T09:04:24.561Z"
   },
   {
    "duration": 4,
    "start_time": "2023-02-06T09:04:24.571Z"
   },
   {
    "duration": 22,
    "start_time": "2023-02-06T09:04:24.576Z"
   },
   {
    "duration": 12,
    "start_time": "2023-02-06T09:04:24.600Z"
   },
   {
    "duration": 45,
    "start_time": "2023-02-06T09:04:24.614Z"
   },
   {
    "duration": 16,
    "start_time": "2023-02-06T09:04:24.661Z"
   },
   {
    "duration": 18,
    "start_time": "2023-02-06T09:04:24.679Z"
   },
   {
    "duration": 0,
    "start_time": "2023-02-06T09:04:24.699Z"
   },
   {
    "duration": 0,
    "start_time": "2023-02-06T09:04:24.700Z"
   },
   {
    "duration": 0,
    "start_time": "2023-02-06T09:04:24.702Z"
   },
   {
    "duration": 3,
    "start_time": "2023-02-06T09:05:34.865Z"
   },
   {
    "duration": 186,
    "start_time": "2023-02-06T09:05:34.870Z"
   },
   {
    "duration": 15,
    "start_time": "2023-02-06T09:05:35.058Z"
   },
   {
    "duration": 39,
    "start_time": "2023-02-06T09:05:35.074Z"
   },
   {
    "duration": 6,
    "start_time": "2023-02-06T09:05:35.115Z"
   },
   {
    "duration": 12,
    "start_time": "2023-02-06T09:05:35.123Z"
   },
   {
    "duration": 23,
    "start_time": "2023-02-06T09:05:35.137Z"
   },
   {
    "duration": 4,
    "start_time": "2023-02-06T09:05:35.162Z"
   },
   {
    "duration": 34,
    "start_time": "2023-02-06T09:05:35.168Z"
   },
   {
    "duration": 35,
    "start_time": "2023-02-06T09:05:35.204Z"
   },
   {
    "duration": 26,
    "start_time": "2023-02-06T09:05:35.242Z"
   },
   {
    "duration": 76,
    "start_time": "2023-02-06T09:05:35.269Z"
   },
   {
    "duration": 61,
    "start_time": "2023-02-06T09:05:35.347Z"
   },
   {
    "duration": 59,
    "start_time": "2023-02-06T09:05:35.410Z"
   },
   {
    "duration": 38,
    "start_time": "2023-02-06T09:05:35.470Z"
   },
   {
    "duration": 9,
    "start_time": "2023-02-06T09:05:35.510Z"
   },
   {
    "duration": 55,
    "start_time": "2023-02-06T09:05:35.521Z"
   },
   {
    "duration": 13,
    "start_time": "2023-02-06T09:05:35.578Z"
   },
   {
    "duration": 11,
    "start_time": "2023-02-06T09:05:35.593Z"
   },
   {
    "duration": 5,
    "start_time": "2023-02-06T09:05:35.606Z"
   },
   {
    "duration": 40,
    "start_time": "2023-02-06T09:05:35.613Z"
   },
   {
    "duration": 12,
    "start_time": "2023-02-06T09:05:35.655Z"
   },
   {
    "duration": 12,
    "start_time": "2023-02-06T09:05:35.669Z"
   },
   {
    "duration": 14,
    "start_time": "2023-02-06T09:05:35.683Z"
   },
   {
    "duration": 46,
    "start_time": "2023-02-06T09:05:35.698Z"
   },
   {
    "duration": 15,
    "start_time": "2023-02-06T09:05:35.746Z"
   },
   {
    "duration": 65,
    "start_time": "2023-02-06T09:05:35.763Z"
   },
   {
    "duration": 24,
    "start_time": "2023-02-06T09:05:35.830Z"
   },
   {
    "duration": 9,
    "start_time": "2023-02-06T09:05:35.857Z"
   },
   {
    "duration": 9,
    "start_time": "2023-02-06T09:05:35.868Z"
   },
   {
    "duration": 20,
    "start_time": "2023-02-06T09:05:35.878Z"
   },
   {
    "duration": 10,
    "start_time": "2023-02-06T09:05:35.900Z"
   },
   {
    "duration": 39,
    "start_time": "2023-02-06T09:05:35.911Z"
   },
   {
    "duration": 13,
    "start_time": "2023-02-06T09:05:35.952Z"
   },
   {
    "duration": 14,
    "start_time": "2023-02-06T09:05:35.967Z"
   },
   {
    "duration": 0,
    "start_time": "2023-02-06T09:05:35.984Z"
   },
   {
    "duration": 0,
    "start_time": "2023-02-06T09:05:35.985Z"
   },
   {
    "duration": 0,
    "start_time": "2023-02-06T09:05:35.987Z"
   },
   {
    "duration": 32,
    "start_time": "2023-02-06T09:07:54.761Z"
   },
   {
    "duration": 38,
    "start_time": "2023-02-06T09:08:00.380Z"
   },
   {
    "duration": 43,
    "start_time": "2023-02-06T09:08:30.285Z"
   },
   {
    "duration": 13,
    "start_time": "2023-02-06T09:09:19.259Z"
   },
   {
    "duration": 11,
    "start_time": "2023-02-06T09:09:31.330Z"
   },
   {
    "duration": 5,
    "start_time": "2023-02-06T09:10:13.224Z"
   },
   {
    "duration": 6,
    "start_time": "2023-02-06T09:16:39.153Z"
   },
   {
    "duration": 5,
    "start_time": "2023-02-06T09:17:03.543Z"
   }
  ],
  "celltoolbar": "Tags",
  "colab": {
   "collapsed_sections": [
    "E0vqbgi9ay0H",
    "VUC88oWjTJw2"
   ],
   "provenance": []
  },
  "kernelspec": {
   "display_name": "Python 3 (ipykernel)",
   "language": "python",
   "name": "python3"
  },
  "language_info": {
   "codemirror_mode": {
    "name": "ipython",
    "version": 3
   },
   "file_extension": ".py",
   "mimetype": "text/x-python",
   "name": "python",
   "nbconvert_exporter": "python",
   "pygments_lexer": "ipython3",
   "version": "3.9.5"
  },
  "toc": {
   "base_numbering": 1,
   "nav_menu": {
    "height": "215px",
    "width": "403px"
   },
   "number_sections": true,
   "sideBar": true,
   "skip_h1_title": true,
   "title_cell": "Table of Contents",
   "title_sidebar": "Contents",
   "toc_cell": false,
   "toc_position": {
    "height": "calc(100% - 180px)",
    "left": "10px",
    "top": "150px",
    "width": "165px"
   },
   "toc_section_display": true,
   "toc_window_display": true
  }
 },
 "nbformat": 4,
 "nbformat_minor": 1
}
